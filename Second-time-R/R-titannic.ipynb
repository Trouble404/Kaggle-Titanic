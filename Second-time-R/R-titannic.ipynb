{
 "cells": [
  {
   "cell_type": "markdown",
   "metadata": {},
   "source": [
    "# Titanic: Machine Learning from Disaster From Kaggle\n",
    "# Author: jz1g17@soton.ac.uk -> referenced by 技术世界\n",
    "# with R"
   ]
  },
  {
   "cell_type": "code",
   "execution_count": 1,
   "metadata": {
    "collapsed": true
   },
   "outputs": [],
   "source": [
    "###################################################################################################"
   ]
  },
  {
   "cell_type": "markdown",
   "metadata": {},
   "source": [
    "** 2 CLASS CLASSIFICATION PROBLEM **"
   ]
  },
  {
   "cell_type": "markdown",
   "metadata": {},
   "source": [
    "**Loading R library**"
   ]
  },
  {
   "cell_type": "code",
   "execution_count": 2,
   "metadata": {
    "collapsed": false
   },
   "outputs": [
    {
     "name": "stderr",
     "output_type": "stream",
     "text": [
      "\n",
      "Attaching package: 'scales'\n",
      "\n",
      "The following object is masked from 'package:readr':\n",
      "\n",
      "    col_factor\n",
      "\n",
      "\n",
      "Attaching package: 'MLmetrics'\n",
      "\n",
      "The following object is masked from 'package:base':\n",
      "\n",
      "    Recall\n",
      "\n",
      "randomForest 4.6-12\n",
      "Type rfNews() to see new features/changes/bug fixes.\n",
      "\n",
      "Attaching package: 'randomForest'\n",
      "\n",
      "The following object is masked from 'package:ggplot2':\n",
      "\n",
      "    margin\n",
      "\n",
      "\n",
      "Attaching package: 'dplyr'\n",
      "\n",
      "The following object is masked from 'package:randomForest':\n",
      "\n",
      "    combine\n",
      "\n",
      "The following objects are masked from 'package:plyr':\n",
      "\n",
      "    arrange, count, desc, failwith, id, mutate, rename, summarise,\n",
      "    summarize\n",
      "\n",
      "The following objects are masked from 'package:stats':\n",
      "\n",
      "    filter, lag\n",
      "\n",
      "The following objects are masked from 'package:base':\n",
      "\n",
      "    intersect, setdiff, setequal, union\n",
      "\n",
      "Loading required package: Rcpp\n",
      "## \n",
      "## Amelia II: Multiple Imputation\n",
      "## (Version 1.7.4, built: 2015-12-05)\n",
      "## Copyright (C) 2005-2018 James Honaker, Gary King and Matthew Blackwell\n",
      "## Refer to http://gking.harvard.edu/amelia/ for more information\n",
      "## \n",
      "Loading required package: grid\n",
      "Loading required package: mvtnorm\n",
      "Loading required package: modeltools\n",
      "Loading required package: stats4\n",
      "\n",
      "Attaching package: 'modeltools'\n",
      "\n",
      "The following object is masked from 'package:plyr':\n",
      "\n",
      "    empty\n",
      "\n",
      "Loading required package: strucchange\n",
      "Loading required package: zoo\n",
      "\n",
      "Attaching package: 'zoo'\n",
      "\n",
      "The following objects are masked from 'package:base':\n",
      "\n",
      "    as.Date, as.Date.numeric\n",
      "\n",
      "Loading required package: sandwich\n",
      "\n",
      "Attaching package: 'strucchange'\n",
      "\n",
      "The following object is masked from 'package:stringr':\n",
      "\n",
      "    boundary\n",
      "\n",
      "Loading required package: survival\n",
      "Loading required package: lattice\n",
      "Loading required package: splines\n",
      "Loading required package: parallel\n",
      "Loaded gbm 2.1.3\n"
     ]
    }
   ],
   "source": [
    "library(readr) # File read / write\n",
    "library(ggplot2) # Data visualization\n",
    "library(ggthemes) # Data visualization\n",
    "library(scales) # Data visualization\n",
    "library(plyr)\n",
    "library(stringr) # String manipulation\n",
    "library(InformationValue) # IV / WOE calculation\n",
    "library(MLmetrics) # Mache learning metrics.e.g. Recall, Precision, Accuracy, AUC\n",
    "library(rpart) # Decision tree utils\n",
    "library(randomForest) # Random Forest\n",
    "library(dplyr) # Data manipulation\n",
    "library(e1071) # SVM\n",
    "library(Amelia) # Missing value utils\n",
    "library(party) # Conditional inference trees\n",
    "library(gbm) # AdaBoost\n",
    "library(class) # KNN\n",
    "library(scales)"
   ]
  },
  {
   "cell_type": "markdown",
   "metadata": {},
   "source": [
    "# step 1: load train and test data"
   ]
  },
  {
   "cell_type": "code",
   "execution_count": 3,
   "metadata": {
    "collapsed": false
   },
   "outputs": [
    {
     "name": "stderr",
     "output_type": "stream",
     "text": [
      "Parsed with column specification:\n",
      "cols(\n",
      "  PassengerId = col_integer(),\n",
      "  Survived = col_integer(),\n",
      "  Pclass = col_integer(),\n",
      "  Name = col_character(),\n",
      "  Sex = col_character(),\n",
      "  Age = col_double(),\n",
      "  SibSp = col_integer(),\n",
      "  Parch = col_integer(),\n",
      "  Ticket = col_character(),\n",
      "  Fare = col_double(),\n",
      "  Cabin = col_character(),\n",
      "  Embarked = col_character()\n",
      ")\n",
      "Parsed with column specification:\n",
      "cols(\n",
      "  PassengerId = col_integer(),\n",
      "  Pclass = col_integer(),\n",
      "  Name = col_character(),\n",
      "  Sex = col_character(),\n",
      "  Age = col_double(),\n",
      "  SibSp = col_integer(),\n",
      "  Parch = col_integer(),\n",
      "  Ticket = col_character(),\n",
      "  Fare = col_double(),\n",
      "  Cabin = col_character(),\n",
      "  Embarked = col_character()\n",
      ")\n"
     ]
    }
   ],
   "source": [
    "train <- read_csv(\"train.csv\")\n",
    "test <- read_csv(\"test.csv\")\n",
    "# combine them\n",
    "data <- bind_rows(train, test)\n",
    "# id of trian data\n",
    "train.row <- 1:nrow(train)\n",
    "# id of test data\n",
    "test.row <- (1 + nrow(train)):(nrow(train) + nrow(test))"
   ]
  },
  {
   "cell_type": "code",
   "execution_count": 4,
   "metadata": {
    "collapsed": false
   },
   "outputs": [
    {
     "data": {
      "text/html": [
       "<table>\n",
       "<thead><tr><th scope=col>PassengerId</th><th scope=col>Survived</th><th scope=col>Pclass</th><th scope=col>Name</th><th scope=col>Sex</th><th scope=col>Age</th><th scope=col>SibSp</th><th scope=col>Parch</th><th scope=col>Ticket</th><th scope=col>Fare</th><th scope=col>Cabin</th><th scope=col>Embarked</th></tr></thead>\n",
       "<tbody>\n",
       "\t<tr><td> 1                                                       </td><td>0                                                        </td><td>3                                                        </td><td>Braund, Mr. Owen Harris                                  </td><td>male                                                     </td><td>22                                                       </td><td>1                                                        </td><td>0                                                        </td><td>A/5 21171                                                </td><td>  7.2500                                                 </td><td>NA                                                       </td><td>S                                                        </td></tr>\n",
       "\t<tr><td> 2                                                       </td><td>1                                                        </td><td>1                                                        </td><td>Cumings, Mrs. John Bradley (Florence Briggs Thayer)      </td><td>female                                                   </td><td>38                                                       </td><td>1                                                        </td><td>0                                                        </td><td>PC 17599                                                 </td><td> 71.2833                                                 </td><td>C85                                                      </td><td>C                                                        </td></tr>\n",
       "\t<tr><td> 3                                                       </td><td>1                                                        </td><td>3                                                        </td><td>Heikkinen, Miss. Laina                                   </td><td>female                                                   </td><td>26                                                       </td><td>0                                                        </td><td>0                                                        </td><td>STON/O2. 3101282                                         </td><td>  7.9250                                                 </td><td>NA                                                       </td><td>S                                                        </td></tr>\n",
       "\t<tr><td> 4                                                       </td><td>1                                                        </td><td>1                                                        </td><td>Futrelle, Mrs. Jacques Heath (Lily May Peel)             </td><td>female                                                   </td><td>35                                                       </td><td>1                                                        </td><td>0                                                        </td><td>113803                                                   </td><td> 53.1000                                                 </td><td>C123                                                     </td><td>S                                                        </td></tr>\n",
       "\t<tr><td> 5                                                       </td><td>0                                                        </td><td>3                                                        </td><td>Allen, Mr. William Henry                                 </td><td>male                                                     </td><td>35                                                       </td><td>0                                                        </td><td>0                                                        </td><td>373450                                                   </td><td>  8.0500                                                 </td><td>NA                                                       </td><td>S                                                        </td></tr>\n",
       "\t<tr><td> 6                                                       </td><td>0                                                        </td><td>3                                                        </td><td>Moran, Mr. James                                         </td><td>male                                                     </td><td>NA                                                       </td><td>0                                                        </td><td>0                                                        </td><td>330877                                                   </td><td>  8.4583                                                 </td><td>NA                                                       </td><td>Q                                                        </td></tr>\n",
       "\t<tr><td> 7                                                       </td><td>0                                                        </td><td>1                                                        </td><td>McCarthy, Mr. Timothy J                                  </td><td>male                                                     </td><td>54                                                       </td><td>0                                                        </td><td>0                                                        </td><td>17463                                                    </td><td> 51.8625                                                 </td><td>E46                                                      </td><td>S                                                        </td></tr>\n",
       "\t<tr><td> 8                                                       </td><td>0                                                        </td><td>3                                                        </td><td>Palsson, Master. Gosta Leonard                           </td><td>male                                                     </td><td> 2                                                       </td><td>3                                                        </td><td>1                                                        </td><td>349909                                                   </td><td> 21.0750                                                 </td><td>NA                                                       </td><td>S                                                        </td></tr>\n",
       "\t<tr><td> 9                                                       </td><td>1                                                        </td><td>3                                                        </td><td>Johnson, Mrs. Oscar W (Elisabeth Vilhelmina Berg)        </td><td>female                                                   </td><td>27                                                       </td><td>0                                                        </td><td>2                                                        </td><td>347742                                                   </td><td> 11.1333                                                 </td><td>NA                                                       </td><td>S                                                        </td></tr>\n",
       "\t<tr><td>10                                                       </td><td>1                                                        </td><td>2                                                        </td><td>Nasser, Mrs. Nicholas (Adele Achem)                      </td><td>female                                                   </td><td>14                                                       </td><td>1                                                        </td><td>0                                                        </td><td>237736                                                   </td><td> 30.0708                                                 </td><td>NA                                                       </td><td>C                                                        </td></tr>\n",
       "\t<tr><td>11                                                       </td><td>1                                                        </td><td>3                                                        </td><td>Sandstrom, Miss. Marguerite Rut                          </td><td>female                                                   </td><td> 4                                                       </td><td>1                                                        </td><td>1                                                        </td><td>PP 9549                                                  </td><td> 16.7000                                                 </td><td>G6                                                       </td><td>S                                                        </td></tr>\n",
       "\t<tr><td>12                                                       </td><td>1                                                        </td><td>1                                                        </td><td>Bonnell, Miss. Elizabeth                                 </td><td>female                                                   </td><td>58                                                       </td><td>0                                                        </td><td>0                                                        </td><td>113783                                                   </td><td> 26.5500                                                 </td><td>C103                                                     </td><td>S                                                        </td></tr>\n",
       "\t<tr><td>13                                                       </td><td>0                                                        </td><td>3                                                        </td><td>Saundercock, Mr. William Henry                           </td><td>male                                                     </td><td>20                                                       </td><td>0                                                        </td><td>0                                                        </td><td>A/5. 2151                                                </td><td>  8.0500                                                 </td><td>NA                                                       </td><td>S                                                        </td></tr>\n",
       "\t<tr><td>14                                                       </td><td>0                                                        </td><td>3                                                        </td><td>Andersson, Mr. Anders Johan                              </td><td>male                                                     </td><td>39                                                       </td><td>1                                                        </td><td>5                                                        </td><td>347082                                                   </td><td> 31.2750                                                 </td><td>NA                                                       </td><td>S                                                        </td></tr>\n",
       "\t<tr><td>15                                                       </td><td>0                                                        </td><td>3                                                        </td><td>Vestrom, Miss. Hulda Amanda Adolfina                     </td><td>female                                                   </td><td>14                                                       </td><td>0                                                        </td><td>0                                                        </td><td>350406                                                   </td><td>  7.8542                                                 </td><td>NA                                                       </td><td>S                                                        </td></tr>\n",
       "\t<tr><td>16                                                       </td><td>1                                                        </td><td>2                                                        </td><td>Hewlett, Mrs. (Mary D Kingcome)                          </td><td>female                                                   </td><td>55                                                       </td><td>0                                                        </td><td>0                                                        </td><td>248706                                                   </td><td> 16.0000                                                 </td><td>NA                                                       </td><td>S                                                        </td></tr>\n",
       "\t<tr><td>17                                                       </td><td>0                                                        </td><td>3                                                        </td><td>Rice, Master. Eugene                                     </td><td>male                                                     </td><td> 2                                                       </td><td>4                                                        </td><td>1                                                        </td><td>382652                                                   </td><td> 29.1250                                                 </td><td>NA                                                       </td><td>Q                                                        </td></tr>\n",
       "\t<tr><td>18                                                       </td><td>1                                                        </td><td>2                                                        </td><td>Williams, Mr. Charles Eugene                             </td><td>male                                                     </td><td>NA                                                       </td><td>0                                                        </td><td>0                                                        </td><td>244373                                                   </td><td> 13.0000                                                 </td><td>NA                                                       </td><td>S                                                        </td></tr>\n",
       "\t<tr><td>19                                                       </td><td>0                                                        </td><td>3                                                        </td><td>Vander Planke, Mrs. Julius (Emelia Maria Vandemoortele)  </td><td>female                                                   </td><td>31                                                       </td><td>1                                                        </td><td>0                                                        </td><td>345763                                                   </td><td> 18.0000                                                 </td><td>NA                                                       </td><td>S                                                        </td></tr>\n",
       "\t<tr><td>20                                                       </td><td>1                                                        </td><td>3                                                        </td><td>Masselmani, Mrs. Fatima                                  </td><td>female                                                   </td><td>NA                                                       </td><td>0                                                        </td><td>0                                                        </td><td>2649                                                     </td><td>  7.2250                                                 </td><td>NA                                                       </td><td>C                                                        </td></tr>\n",
       "\t<tr><td>21                                                       </td><td>0                                                        </td><td>2                                                        </td><td>Fynney, Mr. Joseph J                                     </td><td>male                                                     </td><td>35                                                       </td><td>0                                                        </td><td>0                                                        </td><td>239865                                                   </td><td> 26.0000                                                 </td><td>NA                                                       </td><td>S                                                        </td></tr>\n",
       "\t<tr><td>22                                                       </td><td>1                                                        </td><td>2                                                        </td><td>Beesley, Mr. Lawrence                                    </td><td>male                                                     </td><td>34                                                       </td><td>0                                                        </td><td>0                                                        </td><td>248698                                                   </td><td> 13.0000                                                 </td><td>D56                                                      </td><td>S                                                        </td></tr>\n",
       "\t<tr><td>23                                                       </td><td>1                                                        </td><td>3                                                        </td><td>McGowan, Miss. Anna \"Annie\"                              </td><td>female                                                   </td><td>15                                                       </td><td>0                                                        </td><td>0                                                        </td><td>330923                                                   </td><td>  8.0292                                                 </td><td>NA                                                       </td><td>Q                                                        </td></tr>\n",
       "\t<tr><td>24                                                       </td><td>1                                                        </td><td>1                                                        </td><td>Sloper, Mr. William Thompson                             </td><td>male                                                     </td><td>28                                                       </td><td>0                                                        </td><td>0                                                        </td><td>113788                                                   </td><td> 35.5000                                                 </td><td>A6                                                       </td><td>S                                                        </td></tr>\n",
       "\t<tr><td>25                                                       </td><td>0                                                        </td><td>3                                                        </td><td>Palsson, Miss. Torborg Danira                            </td><td>female                                                   </td><td> 8                                                       </td><td>3                                                        </td><td>1                                                        </td><td>349909                                                   </td><td> 21.0750                                                 </td><td>NA                                                       </td><td>S                                                        </td></tr>\n",
       "\t<tr><td>26                                                       </td><td>1                                                        </td><td>3                                                        </td><td>Asplund, Mrs. Carl Oscar (Selma Augusta Emilia Johansson)</td><td>female                                                   </td><td>38                                                       </td><td>1                                                        </td><td>5                                                        </td><td>347077                                                   </td><td> 31.3875                                                 </td><td>NA                                                       </td><td>S                                                        </td></tr>\n",
       "\t<tr><td>27                                                       </td><td>0                                                        </td><td>3                                                        </td><td>Emir, Mr. Farred Chehab                                  </td><td>male                                                     </td><td>NA                                                       </td><td>0                                                        </td><td>0                                                        </td><td>2631                                                     </td><td>  7.2250                                                 </td><td>NA                                                       </td><td>C                                                        </td></tr>\n",
       "\t<tr><td>28                                                       </td><td>0                                                        </td><td>1                                                        </td><td>Fortune, Mr. Charles Alexander                           </td><td>male                                                     </td><td>19                                                       </td><td>3                                                        </td><td>2                                                        </td><td>19950                                                    </td><td>263.0000                                                 </td><td>C23 C25 C27                                              </td><td>S                                                        </td></tr>\n",
       "\t<tr><td>29                                                       </td><td>1                                                        </td><td>3                                                        </td><td>O'Dwyer, Miss. Ellen \"Nellie\"                            </td><td>female                                                   </td><td>NA                                                       </td><td>0                                                        </td><td>0                                                        </td><td>330959                                                   </td><td>  7.8792                                                 </td><td>NA                                                       </td><td>Q                                                        </td></tr>\n",
       "\t<tr><td>30                                                       </td><td>0                                                        </td><td>3                                                        </td><td>Todoroff, Mr. Lalio                                      </td><td>male                                                     </td><td>NA                                                       </td><td>0                                                        </td><td>0                                                        </td><td>349216                                                   </td><td>  7.8958                                                 </td><td>NA                                                       </td><td>S                                                        </td></tr>\n",
       "\t<tr><td>...</td><td>...</td><td>...</td><td>...</td><td>...</td><td>...</td><td>...</td><td>...</td><td>...</td><td>...</td><td>...</td><td>...</td></tr>\n",
       "\t<tr><td>1280                                                           </td><td>NA                                                             </td><td>3                                                              </td><td>Canavan, Mr. Patrick                                           </td><td>male                                                           </td><td>21.0                                                           </td><td>0                                                              </td><td>0                                                              </td><td>364858                                                         </td><td>  7.7500                                                       </td><td>NA                                                             </td><td>Q                                                              </td></tr>\n",
       "\t<tr><td>1281                                                           </td><td>NA                                                             </td><td>3                                                              </td><td>Palsson, Master. Paul Folke                                    </td><td>male                                                           </td><td> 6.0                                                           </td><td>3                                                              </td><td>1                                                              </td><td>349909                                                         </td><td> 21.0750                                                       </td><td>NA                                                             </td><td>S                                                              </td></tr>\n",
       "\t<tr><td>1282                                                           </td><td>NA                                                             </td><td>1                                                              </td><td>Payne, Mr. Vivian Ponsonby                                     </td><td>male                                                           </td><td>23.0                                                           </td><td>0                                                              </td><td>0                                                              </td><td>12749                                                          </td><td> 93.5000                                                       </td><td>B24                                                            </td><td>S                                                              </td></tr>\n",
       "\t<tr><td>1283                                                           </td><td>NA                                                             </td><td>1                                                              </td><td>Lines, Mrs. Ernest H (Elizabeth Lindsey James)                 </td><td>female                                                         </td><td>51.0                                                           </td><td>0                                                              </td><td>1                                                              </td><td>PC 17592                                                       </td><td> 39.4000                                                       </td><td>D28                                                            </td><td>S                                                              </td></tr>\n",
       "\t<tr><td>1284                                                           </td><td>NA                                                             </td><td>3                                                              </td><td>Abbott, Master. Eugene Joseph                                  </td><td>male                                                           </td><td>13.0                                                           </td><td>0                                                              </td><td>2                                                              </td><td>C.A. 2673                                                      </td><td> 20.2500                                                       </td><td>NA                                                             </td><td>S                                                              </td></tr>\n",
       "\t<tr><td>1285                                                           </td><td>NA                                                             </td><td>2                                                              </td><td>Gilbert, Mr. William                                           </td><td>male                                                           </td><td>47.0                                                           </td><td>0                                                              </td><td>0                                                              </td><td>C.A. 30769                                                     </td><td> 10.5000                                                       </td><td>NA                                                             </td><td>S                                                              </td></tr>\n",
       "\t<tr><td>1286                                                           </td><td>NA                                                             </td><td>3                                                              </td><td>Kink-Heilmann, Mr. Anton                                       </td><td>male                                                           </td><td>29.0                                                           </td><td>3                                                              </td><td>1                                                              </td><td>315153                                                         </td><td> 22.0250                                                       </td><td>NA                                                             </td><td>S                                                              </td></tr>\n",
       "\t<tr><td>1287                                                           </td><td>NA                                                             </td><td>1                                                              </td><td>Smith, Mrs. Lucien Philip (Mary Eloise Hughes)                 </td><td>female                                                         </td><td>18.0                                                           </td><td>1                                                              </td><td>0                                                              </td><td>13695                                                          </td><td> 60.0000                                                       </td><td>C31                                                            </td><td>S                                                              </td></tr>\n",
       "\t<tr><td>1288                                                           </td><td>NA                                                             </td><td>3                                                              </td><td>Colbert, Mr. Patrick                                           </td><td>male                                                           </td><td>24.0                                                           </td><td>0                                                              </td><td>0                                                              </td><td>371109                                                         </td><td>  7.2500                                                       </td><td>NA                                                             </td><td>Q                                                              </td></tr>\n",
       "\t<tr><td>1289                                                           </td><td>NA                                                             </td><td>1                                                              </td><td>Frolicher-Stehli, Mrs. Maxmillian (Margaretha Emerentia Stehli)</td><td>female                                                         </td><td>48.0                                                           </td><td>1                                                              </td><td>1                                                              </td><td>13567                                                          </td><td> 79.2000                                                       </td><td>B41                                                            </td><td>C                                                              </td></tr>\n",
       "\t<tr><td>1290                                                           </td><td>NA                                                             </td><td>3                                                              </td><td>Larsson-Rondberg, Mr. Edvard A                                 </td><td>male                                                           </td><td>22.0                                                           </td><td>0                                                              </td><td>0                                                              </td><td>347065                                                         </td><td>  7.7750                                                       </td><td>NA                                                             </td><td>S                                                              </td></tr>\n",
       "\t<tr><td>1291                                                           </td><td>NA                                                             </td><td>3                                                              </td><td>Conlon, Mr. Thomas Henry                                       </td><td>male                                                           </td><td>31.0                                                           </td><td>0                                                              </td><td>0                                                              </td><td>21332                                                          </td><td>  7.7333                                                       </td><td>NA                                                             </td><td>Q                                                              </td></tr>\n",
       "\t<tr><td>1292                                                           </td><td>NA                                                             </td><td>1                                                              </td><td>Bonnell, Miss. Caroline                                        </td><td>female                                                         </td><td>30.0                                                           </td><td>0                                                              </td><td>0                                                              </td><td>36928                                                          </td><td>164.8667                                                       </td><td>C7                                                             </td><td>S                                                              </td></tr>\n",
       "\t<tr><td>1293                                                           </td><td>NA                                                             </td><td>2                                                              </td><td>Gale, Mr. Harry                                                </td><td>male                                                           </td><td>38.0                                                           </td><td>1                                                              </td><td>0                                                              </td><td>28664                                                          </td><td> 21.0000                                                       </td><td>NA                                                             </td><td>S                                                              </td></tr>\n",
       "\t<tr><td>1294                                                           </td><td>NA                                                             </td><td>1                                                              </td><td>Gibson, Miss. Dorothy Winifred                                 </td><td>female                                                         </td><td>22.0                                                           </td><td>0                                                              </td><td>1                                                              </td><td>112378                                                         </td><td> 59.4000                                                       </td><td>NA                                                             </td><td>C                                                              </td></tr>\n",
       "\t<tr><td>1295                                                           </td><td>NA                                                             </td><td>1                                                              </td><td>Carrau, Mr. Jose Pedro                                         </td><td>male                                                           </td><td>17.0                                                           </td><td>0                                                              </td><td>0                                                              </td><td>113059                                                         </td><td> 47.1000                                                       </td><td>NA                                                             </td><td>S                                                              </td></tr>\n",
       "\t<tr><td>1296                                                           </td><td>NA                                                             </td><td>1                                                              </td><td>Frauenthal, Mr. Isaac Gerald                                   </td><td>male                                                           </td><td>43.0                                                           </td><td>1                                                              </td><td>0                                                              </td><td>17765                                                          </td><td> 27.7208                                                       </td><td>D40                                                            </td><td>C                                                              </td></tr>\n",
       "\t<tr><td>1297                                                           </td><td>NA                                                             </td><td>2                                                              </td><td>Nourney, Mr. Alfred (Baron von Drachstedt\")\"                   </td><td>male                                                           </td><td>20.0                                                           </td><td>0                                                              </td><td>0                                                              </td><td>SC/PARIS 2166                                                  </td><td> 13.8625                                                       </td><td>D38                                                            </td><td>C                                                              </td></tr>\n",
       "\t<tr><td>1298                                                           </td><td>NA                                                             </td><td>2                                                              </td><td>Ware, Mr. William Jeffery                                      </td><td>male                                                           </td><td>23.0                                                           </td><td>1                                                              </td><td>0                                                              </td><td>28666                                                          </td><td> 10.5000                                                       </td><td>NA                                                             </td><td>S                                                              </td></tr>\n",
       "\t<tr><td>1299                                                           </td><td>NA                                                             </td><td>1                                                              </td><td>Widener, Mr. George Dunton                                     </td><td>male                                                           </td><td>50.0                                                           </td><td>1                                                              </td><td>1                                                              </td><td>113503                                                         </td><td>211.5000                                                       </td><td>C80                                                            </td><td>C                                                              </td></tr>\n",
       "\t<tr><td>1300                                                           </td><td>NA                                                             </td><td>3                                                              </td><td>Riordan, Miss. Johanna Hannah\"\"                                </td><td>female                                                         </td><td>  NA                                                           </td><td>0                                                              </td><td>0                                                              </td><td>334915                                                         </td><td>  7.7208                                                       </td><td>NA                                                             </td><td>Q                                                              </td></tr>\n",
       "\t<tr><td>1301                                                           </td><td>NA                                                             </td><td>3                                                              </td><td>Peacock, Miss. Treasteall                                      </td><td>female                                                         </td><td> 3.0                                                           </td><td>1                                                              </td><td>1                                                              </td><td>SOTON/O.Q. 3101315                                             </td><td> 13.7750                                                       </td><td>NA                                                             </td><td>S                                                              </td></tr>\n",
       "\t<tr><td>1302                                                           </td><td>NA                                                             </td><td>3                                                              </td><td>Naughton, Miss. Hannah                                         </td><td>female                                                         </td><td>  NA                                                           </td><td>0                                                              </td><td>0                                                              </td><td>365237                                                         </td><td>  7.7500                                                       </td><td>NA                                                             </td><td>Q                                                              </td></tr>\n",
       "\t<tr><td>1303                                                           </td><td>NA                                                             </td><td>1                                                              </td><td>Minahan, Mrs. William Edward (Lillian E Thorpe)                </td><td>female                                                         </td><td>37.0                                                           </td><td>1                                                              </td><td>0                                                              </td><td>19928                                                          </td><td> 90.0000                                                       </td><td>C78                                                            </td><td>Q                                                              </td></tr>\n",
       "\t<tr><td>1304                                                           </td><td>NA                                                             </td><td>3                                                              </td><td>Henriksson, Miss. Jenny Lovisa                                 </td><td>female                                                         </td><td>28.0                                                           </td><td>0                                                              </td><td>0                                                              </td><td>347086                                                         </td><td>  7.7750                                                       </td><td>NA                                                             </td><td>S                                                              </td></tr>\n",
       "\t<tr><td>1305                                                           </td><td>NA                                                             </td><td>3                                                              </td><td>Spector, Mr. Woolf                                             </td><td>male                                                           </td><td>  NA                                                           </td><td>0                                                              </td><td>0                                                              </td><td>A.5. 3236                                                      </td><td>  8.0500                                                       </td><td>NA                                                             </td><td>S                                                              </td></tr>\n",
       "\t<tr><td>1306                                                           </td><td>NA                                                             </td><td>1                                                              </td><td>Oliva y Ocana, Dona. Fermina                                   </td><td>female                                                         </td><td>39.0                                                           </td><td>0                                                              </td><td>0                                                              </td><td>PC 17758                                                       </td><td>108.9000                                                       </td><td>C105                                                           </td><td>C                                                              </td></tr>\n",
       "\t<tr><td>1307                                                           </td><td>NA                                                             </td><td>3                                                              </td><td>Saether, Mr. Simon Sivertsen                                   </td><td>male                                                           </td><td>38.5                                                           </td><td>0                                                              </td><td>0                                                              </td><td>SOTON/O.Q. 3101262                                             </td><td>  7.2500                                                       </td><td>NA                                                             </td><td>S                                                              </td></tr>\n",
       "\t<tr><td>1308                                                           </td><td>NA                                                             </td><td>3                                                              </td><td>Ware, Mr. Frederick                                            </td><td>male                                                           </td><td>  NA                                                           </td><td>0                                                              </td><td>0                                                              </td><td>359309                                                         </td><td>  8.0500                                                       </td><td>NA                                                             </td><td>S                                                              </td></tr>\n",
       "\t<tr><td>1309                                                           </td><td>NA                                                             </td><td>3                                                              </td><td>Peter, Master. Michael J                                       </td><td>male                                                           </td><td>  NA                                                           </td><td>1                                                              </td><td>1                                                              </td><td>2668                                                           </td><td> 22.3583                                                       </td><td>NA                                                             </td><td>C                                                              </td></tr>\n",
       "</tbody>\n",
       "</table>\n"
      ],
      "text/latex": [
       "\\begin{tabular}{r|llllllllllll}\n",
       " PassengerId & Survived & Pclass & Name & Sex & Age & SibSp & Parch & Ticket & Fare & Cabin & Embarked\\\\\n",
       "\\hline\n",
       "\t  1                                                        & 0                                                         & 3                                                         & Braund, Mr. Owen Harris                                   & male                                                      & 22                                                        & 1                                                         & 0                                                         & A/5 21171                                                 &   7.2500                                                  & NA                                                        & S                                                        \\\\\n",
       "\t  2                                                        & 1                                                         & 1                                                         & Cumings, Mrs. John Bradley (Florence Briggs Thayer)       & female                                                    & 38                                                        & 1                                                         & 0                                                         & PC 17599                                                  &  71.2833                                                  & C85                                                       & C                                                        \\\\\n",
       "\t  3                                                        & 1                                                         & 3                                                         & Heikkinen, Miss. Laina                                    & female                                                    & 26                                                        & 0                                                         & 0                                                         & STON/O2. 3101282                                          &   7.9250                                                  & NA                                                        & S                                                        \\\\\n",
       "\t  4                                                        & 1                                                         & 1                                                         & Futrelle, Mrs. Jacques Heath (Lily May Peel)              & female                                                    & 35                                                        & 1                                                         & 0                                                         & 113803                                                    &  53.1000                                                  & C123                                                      & S                                                        \\\\\n",
       "\t  5                                                        & 0                                                         & 3                                                         & Allen, Mr. William Henry                                  & male                                                      & 35                                                        & 0                                                         & 0                                                         & 373450                                                    &   8.0500                                                  & NA                                                        & S                                                        \\\\\n",
       "\t  6                                                        & 0                                                         & 3                                                         & Moran, Mr. James                                          & male                                                      & NA                                                        & 0                                                         & 0                                                         & 330877                                                    &   8.4583                                                  & NA                                                        & Q                                                        \\\\\n",
       "\t  7                                                        & 0                                                         & 1                                                         & McCarthy, Mr. Timothy J                                   & male                                                      & 54                                                        & 0                                                         & 0                                                         & 17463                                                     &  51.8625                                                  & E46                                                       & S                                                        \\\\\n",
       "\t  8                                                        & 0                                                         & 3                                                         & Palsson, Master. Gosta Leonard                            & male                                                      &  2                                                        & 3                                                         & 1                                                         & 349909                                                    &  21.0750                                                  & NA                                                        & S                                                        \\\\\n",
       "\t  9                                                        & 1                                                         & 3                                                         & Johnson, Mrs. Oscar W (Elisabeth Vilhelmina Berg)         & female                                                    & 27                                                        & 0                                                         & 2                                                         & 347742                                                    &  11.1333                                                  & NA                                                        & S                                                        \\\\\n",
       "\t 10                                                        & 1                                                         & 2                                                         & Nasser, Mrs. Nicholas (Adele Achem)                       & female                                                    & 14                                                        & 1                                                         & 0                                                         & 237736                                                    &  30.0708                                                  & NA                                                        & C                                                        \\\\\n",
       "\t 11                                                        & 1                                                         & 3                                                         & Sandstrom, Miss. Marguerite Rut                           & female                                                    &  4                                                        & 1                                                         & 1                                                         & PP 9549                                                   &  16.7000                                                  & G6                                                        & S                                                        \\\\\n",
       "\t 12                                                        & 1                                                         & 1                                                         & Bonnell, Miss. Elizabeth                                  & female                                                    & 58                                                        & 0                                                         & 0                                                         & 113783                                                    &  26.5500                                                  & C103                                                      & S                                                        \\\\\n",
       "\t 13                                                        & 0                                                         & 3                                                         & Saundercock, Mr. William Henry                            & male                                                      & 20                                                        & 0                                                         & 0                                                         & A/5. 2151                                                 &   8.0500                                                  & NA                                                        & S                                                        \\\\\n",
       "\t 14                                                        & 0                                                         & 3                                                         & Andersson, Mr. Anders Johan                               & male                                                      & 39                                                        & 1                                                         & 5                                                         & 347082                                                    &  31.2750                                                  & NA                                                        & S                                                        \\\\\n",
       "\t 15                                                        & 0                                                         & 3                                                         & Vestrom, Miss. Hulda Amanda Adolfina                      & female                                                    & 14                                                        & 0                                                         & 0                                                         & 350406                                                    &   7.8542                                                  & NA                                                        & S                                                        \\\\\n",
       "\t 16                                                        & 1                                                         & 2                                                         & Hewlett, Mrs. (Mary D Kingcome)                           & female                                                    & 55                                                        & 0                                                         & 0                                                         & 248706                                                    &  16.0000                                                  & NA                                                        & S                                                        \\\\\n",
       "\t 17                                                        & 0                                                         & 3                                                         & Rice, Master. Eugene                                      & male                                                      &  2                                                        & 4                                                         & 1                                                         & 382652                                                    &  29.1250                                                  & NA                                                        & Q                                                        \\\\\n",
       "\t 18                                                        & 1                                                         & 2                                                         & Williams, Mr. Charles Eugene                              & male                                                      & NA                                                        & 0                                                         & 0                                                         & 244373                                                    &  13.0000                                                  & NA                                                        & S                                                        \\\\\n",
       "\t 19                                                        & 0                                                         & 3                                                         & Vander Planke, Mrs. Julius (Emelia Maria Vandemoortele)   & female                                                    & 31                                                        & 1                                                         & 0                                                         & 345763                                                    &  18.0000                                                  & NA                                                        & S                                                        \\\\\n",
       "\t 20                                                        & 1                                                         & 3                                                         & Masselmani, Mrs. Fatima                                   & female                                                    & NA                                                        & 0                                                         & 0                                                         & 2649                                                      &   7.2250                                                  & NA                                                        & C                                                        \\\\\n",
       "\t 21                                                        & 0                                                         & 2                                                         & Fynney, Mr. Joseph J                                      & male                                                      & 35                                                        & 0                                                         & 0                                                         & 239865                                                    &  26.0000                                                  & NA                                                        & S                                                        \\\\\n",
       "\t 22                                                        & 1                                                         & 2                                                         & Beesley, Mr. Lawrence                                     & male                                                      & 34                                                        & 0                                                         & 0                                                         & 248698                                                    &  13.0000                                                  & D56                                                       & S                                                        \\\\\n",
       "\t 23                                                        & 1                                                         & 3                                                         & McGowan, Miss. Anna \"Annie\"                               & female                                                    & 15                                                        & 0                                                         & 0                                                         & 330923                                                    &   8.0292                                                  & NA                                                        & Q                                                        \\\\\n",
       "\t 24                                                        & 1                                                         & 1                                                         & Sloper, Mr. William Thompson                              & male                                                      & 28                                                        & 0                                                         & 0                                                         & 113788                                                    &  35.5000                                                  & A6                                                        & S                                                        \\\\\n",
       "\t 25                                                        & 0                                                         & 3                                                         & Palsson, Miss. Torborg Danira                             & female                                                    &  8                                                        & 3                                                         & 1                                                         & 349909                                                    &  21.0750                                                  & NA                                                        & S                                                        \\\\\n",
       "\t 26                                                        & 1                                                         & 3                                                         & Asplund, Mrs. Carl Oscar (Selma Augusta Emilia Johansson) & female                                                    & 38                                                        & 1                                                         & 5                                                         & 347077                                                    &  31.3875                                                  & NA                                                        & S                                                        \\\\\n",
       "\t 27                                                        & 0                                                         & 3                                                         & Emir, Mr. Farred Chehab                                   & male                                                      & NA                                                        & 0                                                         & 0                                                         & 2631                                                      &   7.2250                                                  & NA                                                        & C                                                        \\\\\n",
       "\t 28                                                        & 0                                                         & 1                                                         & Fortune, Mr. Charles Alexander                            & male                                                      & 19                                                        & 3                                                         & 2                                                         & 19950                                                     & 263.0000                                                  & C23 C25 C27                                               & S                                                        \\\\\n",
       "\t 29                                                        & 1                                                         & 3                                                         & O'Dwyer, Miss. Ellen \"Nellie\"                             & female                                                    & NA                                                        & 0                                                         & 0                                                         & 330959                                                    &   7.8792                                                  & NA                                                        & Q                                                        \\\\\n",
       "\t 30                                                        & 0                                                         & 3                                                         & Todoroff, Mr. Lalio                                       & male                                                      & NA                                                        & 0                                                         & 0                                                         & 349216                                                    &   7.8958                                                  & NA                                                        & S                                                        \\\\\n",
       "\t ... & ... & ... & ... & ... & ... & ... & ... & ... & ... & ... & ...\\\\\n",
       "\t 1280                                                            & NA                                                              & 3                                                               & Canavan, Mr. Patrick                                            & male                                                            & 21.0                                                            & 0                                                               & 0                                                               & 364858                                                          &   7.7500                                                        & NA                                                              & Q                                                              \\\\\n",
       "\t 1281                                                            & NA                                                              & 3                                                               & Palsson, Master. Paul Folke                                     & male                                                            &  6.0                                                            & 3                                                               & 1                                                               & 349909                                                          &  21.0750                                                        & NA                                                              & S                                                              \\\\\n",
       "\t 1282                                                            & NA                                                              & 1                                                               & Payne, Mr. Vivian Ponsonby                                      & male                                                            & 23.0                                                            & 0                                                               & 0                                                               & 12749                                                           &  93.5000                                                        & B24                                                             & S                                                              \\\\\n",
       "\t 1283                                                            & NA                                                              & 1                                                               & Lines, Mrs. Ernest H (Elizabeth Lindsey James)                  & female                                                          & 51.0                                                            & 0                                                               & 1                                                               & PC 17592                                                        &  39.4000                                                        & D28                                                             & S                                                              \\\\\n",
       "\t 1284                                                            & NA                                                              & 3                                                               & Abbott, Master. Eugene Joseph                                   & male                                                            & 13.0                                                            & 0                                                               & 2                                                               & C.A. 2673                                                       &  20.2500                                                        & NA                                                              & S                                                              \\\\\n",
       "\t 1285                                                            & NA                                                              & 2                                                               & Gilbert, Mr. William                                            & male                                                            & 47.0                                                            & 0                                                               & 0                                                               & C.A. 30769                                                      &  10.5000                                                        & NA                                                              & S                                                              \\\\\n",
       "\t 1286                                                            & NA                                                              & 3                                                               & Kink-Heilmann, Mr. Anton                                        & male                                                            & 29.0                                                            & 3                                                               & 1                                                               & 315153                                                          &  22.0250                                                        & NA                                                              & S                                                              \\\\\n",
       "\t 1287                                                            & NA                                                              & 1                                                               & Smith, Mrs. Lucien Philip (Mary Eloise Hughes)                  & female                                                          & 18.0                                                            & 1                                                               & 0                                                               & 13695                                                           &  60.0000                                                        & C31                                                             & S                                                              \\\\\n",
       "\t 1288                                                            & NA                                                              & 3                                                               & Colbert, Mr. Patrick                                            & male                                                            & 24.0                                                            & 0                                                               & 0                                                               & 371109                                                          &   7.2500                                                        & NA                                                              & Q                                                              \\\\\n",
       "\t 1289                                                            & NA                                                              & 1                                                               & Frolicher-Stehli, Mrs. Maxmillian (Margaretha Emerentia Stehli) & female                                                          & 48.0                                                            & 1                                                               & 1                                                               & 13567                                                           &  79.2000                                                        & B41                                                             & C                                                              \\\\\n",
       "\t 1290                                                            & NA                                                              & 3                                                               & Larsson-Rondberg, Mr. Edvard A                                  & male                                                            & 22.0                                                            & 0                                                               & 0                                                               & 347065                                                          &   7.7750                                                        & NA                                                              & S                                                              \\\\\n",
       "\t 1291                                                            & NA                                                              & 3                                                               & Conlon, Mr. Thomas Henry                                        & male                                                            & 31.0                                                            & 0                                                               & 0                                                               & 21332                                                           &   7.7333                                                        & NA                                                              & Q                                                              \\\\\n",
       "\t 1292                                                            & NA                                                              & 1                                                               & Bonnell, Miss. Caroline                                         & female                                                          & 30.0                                                            & 0                                                               & 0                                                               & 36928                                                           & 164.8667                                                        & C7                                                              & S                                                              \\\\\n",
       "\t 1293                                                            & NA                                                              & 2                                                               & Gale, Mr. Harry                                                 & male                                                            & 38.0                                                            & 1                                                               & 0                                                               & 28664                                                           &  21.0000                                                        & NA                                                              & S                                                              \\\\\n",
       "\t 1294                                                            & NA                                                              & 1                                                               & Gibson, Miss. Dorothy Winifred                                  & female                                                          & 22.0                                                            & 0                                                               & 1                                                               & 112378                                                          &  59.4000                                                        & NA                                                              & C                                                              \\\\\n",
       "\t 1295                                                            & NA                                                              & 1                                                               & Carrau, Mr. Jose Pedro                                          & male                                                            & 17.0                                                            & 0                                                               & 0                                                               & 113059                                                          &  47.1000                                                        & NA                                                              & S                                                              \\\\\n",
       "\t 1296                                                            & NA                                                              & 1                                                               & Frauenthal, Mr. Isaac Gerald                                    & male                                                            & 43.0                                                            & 1                                                               & 0                                                               & 17765                                                           &  27.7208                                                        & D40                                                             & C                                                              \\\\\n",
       "\t 1297                                                            & NA                                                              & 2                                                               & Nourney, Mr. Alfred (Baron von Drachstedt\")\"                    & male                                                            & 20.0                                                            & 0                                                               & 0                                                               & SC/PARIS 2166                                                   &  13.8625                                                        & D38                                                             & C                                                              \\\\\n",
       "\t 1298                                                            & NA                                                              & 2                                                               & Ware, Mr. William Jeffery                                       & male                                                            & 23.0                                                            & 1                                                               & 0                                                               & 28666                                                           &  10.5000                                                        & NA                                                              & S                                                              \\\\\n",
       "\t 1299                                                            & NA                                                              & 1                                                               & Widener, Mr. George Dunton                                      & male                                                            & 50.0                                                            & 1                                                               & 1                                                               & 113503                                                          & 211.5000                                                        & C80                                                             & C                                                              \\\\\n",
       "\t 1300                                                            & NA                                                              & 3                                                               & Riordan, Miss. Johanna Hannah\"\"                                 & female                                                          &   NA                                                            & 0                                                               & 0                                                               & 334915                                                          &   7.7208                                                        & NA                                                              & Q                                                              \\\\\n",
       "\t 1301                                                            & NA                                                              & 3                                                               & Peacock, Miss. Treasteall                                       & female                                                          &  3.0                                                            & 1                                                               & 1                                                               & SOTON/O.Q. 3101315                                              &  13.7750                                                        & NA                                                              & S                                                              \\\\\n",
       "\t 1302                                                            & NA                                                              & 3                                                               & Naughton, Miss. Hannah                                          & female                                                          &   NA                                                            & 0                                                               & 0                                                               & 365237                                                          &   7.7500                                                        & NA                                                              & Q                                                              \\\\\n",
       "\t 1303                                                            & NA                                                              & 1                                                               & Minahan, Mrs. William Edward (Lillian E Thorpe)                 & female                                                          & 37.0                                                            & 1                                                               & 0                                                               & 19928                                                           &  90.0000                                                        & C78                                                             & Q                                                              \\\\\n",
       "\t 1304                                                            & NA                                                              & 3                                                               & Henriksson, Miss. Jenny Lovisa                                  & female                                                          & 28.0                                                            & 0                                                               & 0                                                               & 347086                                                          &   7.7750                                                        & NA                                                              & S                                                              \\\\\n",
       "\t 1305                                                            & NA                                                              & 3                                                               & Spector, Mr. Woolf                                              & male                                                            &   NA                                                            & 0                                                               & 0                                                               & A.5. 3236                                                       &   8.0500                                                        & NA                                                              & S                                                              \\\\\n",
       "\t 1306                                                            & NA                                                              & 1                                                               & Oliva y Ocana, Dona. Fermina                                    & female                                                          & 39.0                                                            & 0                                                               & 0                                                               & PC 17758                                                        & 108.9000                                                        & C105                                                            & C                                                              \\\\\n",
       "\t 1307                                                            & NA                                                              & 3                                                               & Saether, Mr. Simon Sivertsen                                    & male                                                            & 38.5                                                            & 0                                                               & 0                                                               & SOTON/O.Q. 3101262                                              &   7.2500                                                        & NA                                                              & S                                                              \\\\\n",
       "\t 1308                                                            & NA                                                              & 3                                                               & Ware, Mr. Frederick                                             & male                                                            &   NA                                                            & 0                                                               & 0                                                               & 359309                                                          &   8.0500                                                        & NA                                                              & S                                                              \\\\\n",
       "\t 1309                                                            & NA                                                              & 3                                                               & Peter, Master. Michael J                                        & male                                                            &   NA                                                            & 1                                                               & 1                                                               & 2668                                                            &  22.3583                                                        & NA                                                              & C                                                              \\\\\n",
       "\\end{tabular}\n"
      ],
      "text/markdown": [
       "\n",
       "PassengerId | Survived | Pclass | Name | Sex | Age | SibSp | Parch | Ticket | Fare | Cabin | Embarked | \n",
       "|---|---|---|---|---|---|---|---|---|---|---|---|---|---|---|---|---|---|---|---|---|---|---|---|---|---|---|---|---|---|---|---|---|---|---|---|---|---|---|---|---|---|---|---|---|---|---|---|---|---|---|---|---|---|---|---|---|---|---|---|---|\n",
       "|  1                                                        | 0                                                         | 3                                                         | Braund, Mr. Owen Harris                                   | male                                                      | 22                                                        | 1                                                         | 0                                                         | A/5 21171                                                 |   7.2500                                                  | NA                                                        | S                                                         | \n",
       "|  2                                                        | 1                                                         | 1                                                         | Cumings, Mrs. John Bradley (Florence Briggs Thayer)       | female                                                    | 38                                                        | 1                                                         | 0                                                         | PC 17599                                                  |  71.2833                                                  | C85                                                       | C                                                         | \n",
       "|  3                                                        | 1                                                         | 3                                                         | Heikkinen, Miss. Laina                                    | female                                                    | 26                                                        | 0                                                         | 0                                                         | STON/O2. 3101282                                          |   7.9250                                                  | NA                                                        | S                                                         | \n",
       "|  4                                                        | 1                                                         | 1                                                         | Futrelle, Mrs. Jacques Heath (Lily May Peel)              | female                                                    | 35                                                        | 1                                                         | 0                                                         | 113803                                                    |  53.1000                                                  | C123                                                      | S                                                         | \n",
       "|  5                                                        | 0                                                         | 3                                                         | Allen, Mr. William Henry                                  | male                                                      | 35                                                        | 0                                                         | 0                                                         | 373450                                                    |   8.0500                                                  | NA                                                        | S                                                         | \n",
       "|  6                                                        | 0                                                         | 3                                                         | Moran, Mr. James                                          | male                                                      | NA                                                        | 0                                                         | 0                                                         | 330877                                                    |   8.4583                                                  | NA                                                        | Q                                                         | \n",
       "|  7                                                        | 0                                                         | 1                                                         | McCarthy, Mr. Timothy J                                   | male                                                      | 54                                                        | 0                                                         | 0                                                         | 17463                                                     |  51.8625                                                  | E46                                                       | S                                                         | \n",
       "|  8                                                        | 0                                                         | 3                                                         | Palsson, Master. Gosta Leonard                            | male                                                      |  2                                                        | 3                                                         | 1                                                         | 349909                                                    |  21.0750                                                  | NA                                                        | S                                                         | \n",
       "|  9                                                        | 1                                                         | 3                                                         | Johnson, Mrs. Oscar W (Elisabeth Vilhelmina Berg)         | female                                                    | 27                                                        | 0                                                         | 2                                                         | 347742                                                    |  11.1333                                                  | NA                                                        | S                                                         | \n",
       "| 10                                                        | 1                                                         | 2                                                         | Nasser, Mrs. Nicholas (Adele Achem)                       | female                                                    | 14                                                        | 1                                                         | 0                                                         | 237736                                                    |  30.0708                                                  | NA                                                        | C                                                         | \n",
       "| 11                                                        | 1                                                         | 3                                                         | Sandstrom, Miss. Marguerite Rut                           | female                                                    |  4                                                        | 1                                                         | 1                                                         | PP 9549                                                   |  16.7000                                                  | G6                                                        | S                                                         | \n",
       "| 12                                                        | 1                                                         | 1                                                         | Bonnell, Miss. Elizabeth                                  | female                                                    | 58                                                        | 0                                                         | 0                                                         | 113783                                                    |  26.5500                                                  | C103                                                      | S                                                         | \n",
       "| 13                                                        | 0                                                         | 3                                                         | Saundercock, Mr. William Henry                            | male                                                      | 20                                                        | 0                                                         | 0                                                         | A/5. 2151                                                 |   8.0500                                                  | NA                                                        | S                                                         | \n",
       "| 14                                                        | 0                                                         | 3                                                         | Andersson, Mr. Anders Johan                               | male                                                      | 39                                                        | 1                                                         | 5                                                         | 347082                                                    |  31.2750                                                  | NA                                                        | S                                                         | \n",
       "| 15                                                        | 0                                                         | 3                                                         | Vestrom, Miss. Hulda Amanda Adolfina                      | female                                                    | 14                                                        | 0                                                         | 0                                                         | 350406                                                    |   7.8542                                                  | NA                                                        | S                                                         | \n",
       "| 16                                                        | 1                                                         | 2                                                         | Hewlett, Mrs. (Mary D Kingcome)                           | female                                                    | 55                                                        | 0                                                         | 0                                                         | 248706                                                    |  16.0000                                                  | NA                                                        | S                                                         | \n",
       "| 17                                                        | 0                                                         | 3                                                         | Rice, Master. Eugene                                      | male                                                      |  2                                                        | 4                                                         | 1                                                         | 382652                                                    |  29.1250                                                  | NA                                                        | Q                                                         | \n",
       "| 18                                                        | 1                                                         | 2                                                         | Williams, Mr. Charles Eugene                              | male                                                      | NA                                                        | 0                                                         | 0                                                         | 244373                                                    |  13.0000                                                  | NA                                                        | S                                                         | \n",
       "| 19                                                        | 0                                                         | 3                                                         | Vander Planke, Mrs. Julius (Emelia Maria Vandemoortele)   | female                                                    | 31                                                        | 1                                                         | 0                                                         | 345763                                                    |  18.0000                                                  | NA                                                        | S                                                         | \n",
       "| 20                                                        | 1                                                         | 3                                                         | Masselmani, Mrs. Fatima                                   | female                                                    | NA                                                        | 0                                                         | 0                                                         | 2649                                                      |   7.2250                                                  | NA                                                        | C                                                         | \n",
       "| 21                                                        | 0                                                         | 2                                                         | Fynney, Mr. Joseph J                                      | male                                                      | 35                                                        | 0                                                         | 0                                                         | 239865                                                    |  26.0000                                                  | NA                                                        | S                                                         | \n",
       "| 22                                                        | 1                                                         | 2                                                         | Beesley, Mr. Lawrence                                     | male                                                      | 34                                                        | 0                                                         | 0                                                         | 248698                                                    |  13.0000                                                  | D56                                                       | S                                                         | \n",
       "| 23                                                        | 1                                                         | 3                                                         | McGowan, Miss. Anna \"Annie\"                               | female                                                    | 15                                                        | 0                                                         | 0                                                         | 330923                                                    |   8.0292                                                  | NA                                                        | Q                                                         | \n",
       "| 24                                                        | 1                                                         | 1                                                         | Sloper, Mr. William Thompson                              | male                                                      | 28                                                        | 0                                                         | 0                                                         | 113788                                                    |  35.5000                                                  | A6                                                        | S                                                         | \n",
       "| 25                                                        | 0                                                         | 3                                                         | Palsson, Miss. Torborg Danira                             | female                                                    |  8                                                        | 3                                                         | 1                                                         | 349909                                                    |  21.0750                                                  | NA                                                        | S                                                         | \n",
       "| 26                                                        | 1                                                         | 3                                                         | Asplund, Mrs. Carl Oscar (Selma Augusta Emilia Johansson) | female                                                    | 38                                                        | 1                                                         | 5                                                         | 347077                                                    |  31.3875                                                  | NA                                                        | S                                                         | \n",
       "| 27                                                        | 0                                                         | 3                                                         | Emir, Mr. Farred Chehab                                   | male                                                      | NA                                                        | 0                                                         | 0                                                         | 2631                                                      |   7.2250                                                  | NA                                                        | C                                                         | \n",
       "| 28                                                        | 0                                                         | 1                                                         | Fortune, Mr. Charles Alexander                            | male                                                      | 19                                                        | 3                                                         | 2                                                         | 19950                                                     | 263.0000                                                  | C23 C25 C27                                               | S                                                         | \n",
       "| 29                                                        | 1                                                         | 3                                                         | O'Dwyer, Miss. Ellen \"Nellie\"                             | female                                                    | NA                                                        | 0                                                         | 0                                                         | 330959                                                    |   7.8792                                                  | NA                                                        | Q                                                         | \n",
       "| 30                                                        | 0                                                         | 3                                                         | Todoroff, Mr. Lalio                                       | male                                                      | NA                                                        | 0                                                         | 0                                                         | 349216                                                    |   7.8958                                                  | NA                                                        | S                                                         | \n",
       "| ... | ... | ... | ... | ... | ... | ... | ... | ... | ... | ... | ... | \n",
       "| 1280                                                            | NA                                                              | 3                                                               | Canavan, Mr. Patrick                                            | male                                                            | 21.0                                                            | 0                                                               | 0                                                               | 364858                                                          |   7.7500                                                        | NA                                                              | Q                                                               | \n",
       "| 1281                                                            | NA                                                              | 3                                                               | Palsson, Master. Paul Folke                                     | male                                                            |  6.0                                                            | 3                                                               | 1                                                               | 349909                                                          |  21.0750                                                        | NA                                                              | S                                                               | \n",
       "| 1282                                                            | NA                                                              | 1                                                               | Payne, Mr. Vivian Ponsonby                                      | male                                                            | 23.0                                                            | 0                                                               | 0                                                               | 12749                                                           |  93.5000                                                        | B24                                                             | S                                                               | \n",
       "| 1283                                                            | NA                                                              | 1                                                               | Lines, Mrs. Ernest H (Elizabeth Lindsey James)                  | female                                                          | 51.0                                                            | 0                                                               | 1                                                               | PC 17592                                                        |  39.4000                                                        | D28                                                             | S                                                               | \n",
       "| 1284                                                            | NA                                                              | 3                                                               | Abbott, Master. Eugene Joseph                                   | male                                                            | 13.0                                                            | 0                                                               | 2                                                               | C.A. 2673                                                       |  20.2500                                                        | NA                                                              | S                                                               | \n",
       "| 1285                                                            | NA                                                              | 2                                                               | Gilbert, Mr. William                                            | male                                                            | 47.0                                                            | 0                                                               | 0                                                               | C.A. 30769                                                      |  10.5000                                                        | NA                                                              | S                                                               | \n",
       "| 1286                                                            | NA                                                              | 3                                                               | Kink-Heilmann, Mr. Anton                                        | male                                                            | 29.0                                                            | 3                                                               | 1                                                               | 315153                                                          |  22.0250                                                        | NA                                                              | S                                                               | \n",
       "| 1287                                                            | NA                                                              | 1                                                               | Smith, Mrs. Lucien Philip (Mary Eloise Hughes)                  | female                                                          | 18.0                                                            | 1                                                               | 0                                                               | 13695                                                           |  60.0000                                                        | C31                                                             | S                                                               | \n",
       "| 1288                                                            | NA                                                              | 3                                                               | Colbert, Mr. Patrick                                            | male                                                            | 24.0                                                            | 0                                                               | 0                                                               | 371109                                                          |   7.2500                                                        | NA                                                              | Q                                                               | \n",
       "| 1289                                                            | NA                                                              | 1                                                               | Frolicher-Stehli, Mrs. Maxmillian (Margaretha Emerentia Stehli) | female                                                          | 48.0                                                            | 1                                                               | 1                                                               | 13567                                                           |  79.2000                                                        | B41                                                             | C                                                               | \n",
       "| 1290                                                            | NA                                                              | 3                                                               | Larsson-Rondberg, Mr. Edvard A                                  | male                                                            | 22.0                                                            | 0                                                               | 0                                                               | 347065                                                          |   7.7750                                                        | NA                                                              | S                                                               | \n",
       "| 1291                                                            | NA                                                              | 3                                                               | Conlon, Mr. Thomas Henry                                        | male                                                            | 31.0                                                            | 0                                                               | 0                                                               | 21332                                                           |   7.7333                                                        | NA                                                              | Q                                                               | \n",
       "| 1292                                                            | NA                                                              | 1                                                               | Bonnell, Miss. Caroline                                         | female                                                          | 30.0                                                            | 0                                                               | 0                                                               | 36928                                                           | 164.8667                                                        | C7                                                              | S                                                               | \n",
       "| 1293                                                            | NA                                                              | 2                                                               | Gale, Mr. Harry                                                 | male                                                            | 38.0                                                            | 1                                                               | 0                                                               | 28664                                                           |  21.0000                                                        | NA                                                              | S                                                               | \n",
       "| 1294                                                            | NA                                                              | 1                                                               | Gibson, Miss. Dorothy Winifred                                  | female                                                          | 22.0                                                            | 0                                                               | 1                                                               | 112378                                                          |  59.4000                                                        | NA                                                              | C                                                               | \n",
       "| 1295                                                            | NA                                                              | 1                                                               | Carrau, Mr. Jose Pedro                                          | male                                                            | 17.0                                                            | 0                                                               | 0                                                               | 113059                                                          |  47.1000                                                        | NA                                                              | S                                                               | \n",
       "| 1296                                                            | NA                                                              | 1                                                               | Frauenthal, Mr. Isaac Gerald                                    | male                                                            | 43.0                                                            | 1                                                               | 0                                                               | 17765                                                           |  27.7208                                                        | D40                                                             | C                                                               | \n",
       "| 1297                                                            | NA                                                              | 2                                                               | Nourney, Mr. Alfred (Baron von Drachstedt\")\"                    | male                                                            | 20.0                                                            | 0                                                               | 0                                                               | SC/PARIS 2166                                                   |  13.8625                                                        | D38                                                             | C                                                               | \n",
       "| 1298                                                            | NA                                                              | 2                                                               | Ware, Mr. William Jeffery                                       | male                                                            | 23.0                                                            | 1                                                               | 0                                                               | 28666                                                           |  10.5000                                                        | NA                                                              | S                                                               | \n",
       "| 1299                                                            | NA                                                              | 1                                                               | Widener, Mr. George Dunton                                      | male                                                            | 50.0                                                            | 1                                                               | 1                                                               | 113503                                                          | 211.5000                                                        | C80                                                             | C                                                               | \n",
       "| 1300                                                            | NA                                                              | 3                                                               | Riordan, Miss. Johanna Hannah\"\"                                 | female                                                          |   NA                                                            | 0                                                               | 0                                                               | 334915                                                          |   7.7208                                                        | NA                                                              | Q                                                               | \n",
       "| 1301                                                            | NA                                                              | 3                                                               | Peacock, Miss. Treasteall                                       | female                                                          |  3.0                                                            | 1                                                               | 1                                                               | SOTON/O.Q. 3101315                                              |  13.7750                                                        | NA                                                              | S                                                               | \n",
       "| 1302                                                            | NA                                                              | 3                                                               | Naughton, Miss. Hannah                                          | female                                                          |   NA                                                            | 0                                                               | 0                                                               | 365237                                                          |   7.7500                                                        | NA                                                              | Q                                                               | \n",
       "| 1303                                                            | NA                                                              | 1                                                               | Minahan, Mrs. William Edward (Lillian E Thorpe)                 | female                                                          | 37.0                                                            | 1                                                               | 0                                                               | 19928                                                           |  90.0000                                                        | C78                                                             | Q                                                               | \n",
       "| 1304                                                            | NA                                                              | 3                                                               | Henriksson, Miss. Jenny Lovisa                                  | female                                                          | 28.0                                                            | 0                                                               | 0                                                               | 347086                                                          |   7.7750                                                        | NA                                                              | S                                                               | \n",
       "| 1305                                                            | NA                                                              | 3                                                               | Spector, Mr. Woolf                                              | male                                                            |   NA                                                            | 0                                                               | 0                                                               | A.5. 3236                                                       |   8.0500                                                        | NA                                                              | S                                                               | \n",
       "| 1306                                                            | NA                                                              | 1                                                               | Oliva y Ocana, Dona. Fermina                                    | female                                                          | 39.0                                                            | 0                                                               | 0                                                               | PC 17758                                                        | 108.9000                                                        | C105                                                            | C                                                               | \n",
       "| 1307                                                            | NA                                                              | 3                                                               | Saether, Mr. Simon Sivertsen                                    | male                                                            | 38.5                                                            | 0                                                               | 0                                                               | SOTON/O.Q. 3101262                                              |   7.2500                                                        | NA                                                              | S                                                               | \n",
       "| 1308                                                            | NA                                                              | 3                                                               | Ware, Mr. Frederick                                             | male                                                            |   NA                                                            | 0                                                               | 0                                                               | 359309                                                          |   8.0500                                                        | NA                                                              | S                                                               | \n",
       "| 1309                                                            | NA                                                              | 3                                                               | Peter, Master. Michael J                                        | male                                                            |   NA                                                            | 1                                                               | 1                                                               | 2668                                                            |  22.3583                                                        | NA                                                              | C                                                               | \n",
       "\n",
       "\n"
      ],
      "text/plain": [
       "     PassengerId Survived Pclass\n",
       "1     1          0        3     \n",
       "2     2          1        1     \n",
       "3     3          1        3     \n",
       "4     4          1        1     \n",
       "5     5          0        3     \n",
       "6     6          0        3     \n",
       "7     7          0        1     \n",
       "8     8          0        3     \n",
       "9     9          1        3     \n",
       "10   10          1        2     \n",
       "11   11          1        3     \n",
       "12   12          1        1     \n",
       "13   13          0        3     \n",
       "14   14          0        3     \n",
       "15   15          0        3     \n",
       "16   16          1        2     \n",
       "17   17          0        3     \n",
       "18   18          1        2     \n",
       "19   19          0        3     \n",
       "20   20          1        3     \n",
       "21   21          0        2     \n",
       "22   22          1        2     \n",
       "23   23          1        3     \n",
       "24   24          1        1     \n",
       "25   25          0        3     \n",
       "26   26          1        3     \n",
       "27   27          0        3     \n",
       "28   28          0        1     \n",
       "29   29          1        3     \n",
       "30   30          0        3     \n",
       "...  ...         ...      ...   \n",
       "1280 1280        NA       3     \n",
       "1281 1281        NA       3     \n",
       "1282 1282        NA       1     \n",
       "1283 1283        NA       1     \n",
       "1284 1284        NA       3     \n",
       "1285 1285        NA       2     \n",
       "1286 1286        NA       3     \n",
       "1287 1287        NA       1     \n",
       "1288 1288        NA       3     \n",
       "1289 1289        NA       1     \n",
       "1290 1290        NA       3     \n",
       "1291 1291        NA       3     \n",
       "1292 1292        NA       1     \n",
       "1293 1293        NA       2     \n",
       "1294 1294        NA       1     \n",
       "1295 1295        NA       1     \n",
       "1296 1296        NA       1     \n",
       "1297 1297        NA       2     \n",
       "1298 1298        NA       2     \n",
       "1299 1299        NA       1     \n",
       "1300 1300        NA       3     \n",
       "1301 1301        NA       3     \n",
       "1302 1302        NA       3     \n",
       "1303 1303        NA       1     \n",
       "1304 1304        NA       3     \n",
       "1305 1305        NA       3     \n",
       "1306 1306        NA       1     \n",
       "1307 1307        NA       3     \n",
       "1308 1308        NA       3     \n",
       "1309 1309        NA       3     \n",
       "     Name                                                            Sex   \n",
       "1    Braund, Mr. Owen Harris                                         male  \n",
       "2    Cumings, Mrs. John Bradley (Florence Briggs Thayer)             female\n",
       "3    Heikkinen, Miss. Laina                                          female\n",
       "4    Futrelle, Mrs. Jacques Heath (Lily May Peel)                    female\n",
       "5    Allen, Mr. William Henry                                        male  \n",
       "6    Moran, Mr. James                                                male  \n",
       "7    McCarthy, Mr. Timothy J                                         male  \n",
       "8    Palsson, Master. Gosta Leonard                                  male  \n",
       "9    Johnson, Mrs. Oscar W (Elisabeth Vilhelmina Berg)               female\n",
       "10   Nasser, Mrs. Nicholas (Adele Achem)                             female\n",
       "11   Sandstrom, Miss. Marguerite Rut                                 female\n",
       "12   Bonnell, Miss. Elizabeth                                        female\n",
       "13   Saundercock, Mr. William Henry                                  male  \n",
       "14   Andersson, Mr. Anders Johan                                     male  \n",
       "15   Vestrom, Miss. Hulda Amanda Adolfina                            female\n",
       "16   Hewlett, Mrs. (Mary D Kingcome)                                 female\n",
       "17   Rice, Master. Eugene                                            male  \n",
       "18   Williams, Mr. Charles Eugene                                    male  \n",
       "19   Vander Planke, Mrs. Julius (Emelia Maria Vandemoortele)         female\n",
       "20   Masselmani, Mrs. Fatima                                         female\n",
       "21   Fynney, Mr. Joseph J                                            male  \n",
       "22   Beesley, Mr. Lawrence                                           male  \n",
       "23   McGowan, Miss. Anna \"Annie\"                                     female\n",
       "24   Sloper, Mr. William Thompson                                    male  \n",
       "25   Palsson, Miss. Torborg Danira                                   female\n",
       "26   Asplund, Mrs. Carl Oscar (Selma Augusta Emilia Johansson)       female\n",
       "27   Emir, Mr. Farred Chehab                                         male  \n",
       "28   Fortune, Mr. Charles Alexander                                  male  \n",
       "29   O'Dwyer, Miss. Ellen \"Nellie\"                                   female\n",
       "30   Todoroff, Mr. Lalio                                             male  \n",
       "...  ...                                                             ...   \n",
       "1280 Canavan, Mr. Patrick                                            male  \n",
       "1281 Palsson, Master. Paul Folke                                     male  \n",
       "1282 Payne, Mr. Vivian Ponsonby                                      male  \n",
       "1283 Lines, Mrs. Ernest H (Elizabeth Lindsey James)                  female\n",
       "1284 Abbott, Master. Eugene Joseph                                   male  \n",
       "1285 Gilbert, Mr. William                                            male  \n",
       "1286 Kink-Heilmann, Mr. Anton                                        male  \n",
       "1287 Smith, Mrs. Lucien Philip (Mary Eloise Hughes)                  female\n",
       "1288 Colbert, Mr. Patrick                                            male  \n",
       "1289 Frolicher-Stehli, Mrs. Maxmillian (Margaretha Emerentia Stehli) female\n",
       "1290 Larsson-Rondberg, Mr. Edvard A                                  male  \n",
       "1291 Conlon, Mr. Thomas Henry                                        male  \n",
       "1292 Bonnell, Miss. Caroline                                         female\n",
       "1293 Gale, Mr. Harry                                                 male  \n",
       "1294 Gibson, Miss. Dorothy Winifred                                  female\n",
       "1295 Carrau, Mr. Jose Pedro                                          male  \n",
       "1296 Frauenthal, Mr. Isaac Gerald                                    male  \n",
       "1297 Nourney, Mr. Alfred (Baron von Drachstedt\")\"                    male  \n",
       "1298 Ware, Mr. William Jeffery                                       male  \n",
       "1299 Widener, Mr. George Dunton                                      male  \n",
       "1300 Riordan, Miss. Johanna Hannah\"\"                                 female\n",
       "1301 Peacock, Miss. Treasteall                                       female\n",
       "1302 Naughton, Miss. Hannah                                          female\n",
       "1303 Minahan, Mrs. William Edward (Lillian E Thorpe)                 female\n",
       "1304 Henriksson, Miss. Jenny Lovisa                                  female\n",
       "1305 Spector, Mr. Woolf                                              male  \n",
       "1306 Oliva y Ocana, Dona. Fermina                                    female\n",
       "1307 Saether, Mr. Simon Sivertsen                                    male  \n",
       "1308 Ware, Mr. Frederick                                             male  \n",
       "1309 Peter, Master. Michael J                                        male  \n",
       "     Age  SibSp Parch Ticket             Fare     Cabin       Embarked\n",
       "1    22   1     0     A/5 21171            7.2500 NA          S       \n",
       "2    38   1     0     PC 17599            71.2833 C85         C       \n",
       "3    26   0     0     STON/O2. 3101282     7.9250 NA          S       \n",
       "4    35   1     0     113803              53.1000 C123        S       \n",
       "5    35   0     0     373450               8.0500 NA          S       \n",
       "6    NA   0     0     330877               8.4583 NA          Q       \n",
       "7    54   0     0     17463               51.8625 E46         S       \n",
       "8     2   3     1     349909              21.0750 NA          S       \n",
       "9    27   0     2     347742              11.1333 NA          S       \n",
       "10   14   1     0     237736              30.0708 NA          C       \n",
       "11    4   1     1     PP 9549             16.7000 G6          S       \n",
       "12   58   0     0     113783              26.5500 C103        S       \n",
       "13   20   0     0     A/5. 2151            8.0500 NA          S       \n",
       "14   39   1     5     347082              31.2750 NA          S       \n",
       "15   14   0     0     350406               7.8542 NA          S       \n",
       "16   55   0     0     248706              16.0000 NA          S       \n",
       "17    2   4     1     382652              29.1250 NA          Q       \n",
       "18   NA   0     0     244373              13.0000 NA          S       \n",
       "19   31   1     0     345763              18.0000 NA          S       \n",
       "20   NA   0     0     2649                 7.2250 NA          C       \n",
       "21   35   0     0     239865              26.0000 NA          S       \n",
       "22   34   0     0     248698              13.0000 D56         S       \n",
       "23   15   0     0     330923               8.0292 NA          Q       \n",
       "24   28   0     0     113788              35.5000 A6          S       \n",
       "25    8   3     1     349909              21.0750 NA          S       \n",
       "26   38   1     5     347077              31.3875 NA          S       \n",
       "27   NA   0     0     2631                 7.2250 NA          C       \n",
       "28   19   3     2     19950              263.0000 C23 C25 C27 S       \n",
       "29   NA   0     0     330959               7.8792 NA          Q       \n",
       "30   NA   0     0     349216               7.8958 NA          S       \n",
       "...  ...  ...   ...   ...                ...      ...         ...     \n",
       "1280 21.0 0     0     364858               7.7500 NA          Q       \n",
       "1281  6.0 3     1     349909              21.0750 NA          S       \n",
       "1282 23.0 0     0     12749               93.5000 B24         S       \n",
       "1283 51.0 0     1     PC 17592            39.4000 D28         S       \n",
       "1284 13.0 0     2     C.A. 2673           20.2500 NA          S       \n",
       "1285 47.0 0     0     C.A. 30769          10.5000 NA          S       \n",
       "1286 29.0 3     1     315153              22.0250 NA          S       \n",
       "1287 18.0 1     0     13695               60.0000 C31         S       \n",
       "1288 24.0 0     0     371109               7.2500 NA          Q       \n",
       "1289 48.0 1     1     13567               79.2000 B41         C       \n",
       "1290 22.0 0     0     347065               7.7750 NA          S       \n",
       "1291 31.0 0     0     21332                7.7333 NA          Q       \n",
       "1292 30.0 0     0     36928              164.8667 C7          S       \n",
       "1293 38.0 1     0     28664               21.0000 NA          S       \n",
       "1294 22.0 0     1     112378              59.4000 NA          C       \n",
       "1295 17.0 0     0     113059              47.1000 NA          S       \n",
       "1296 43.0 1     0     17765               27.7208 D40         C       \n",
       "1297 20.0 0     0     SC/PARIS 2166       13.8625 D38         C       \n",
       "1298 23.0 1     0     28666               10.5000 NA          S       \n",
       "1299 50.0 1     1     113503             211.5000 C80         C       \n",
       "1300   NA 0     0     334915               7.7208 NA          Q       \n",
       "1301  3.0 1     1     SOTON/O.Q. 3101315  13.7750 NA          S       \n",
       "1302   NA 0     0     365237               7.7500 NA          Q       \n",
       "1303 37.0 1     0     19928               90.0000 C78         Q       \n",
       "1304 28.0 0     0     347086               7.7750 NA          S       \n",
       "1305   NA 0     0     A.5. 3236            8.0500 NA          S       \n",
       "1306 39.0 0     0     PC 17758           108.9000 C105        C       \n",
       "1307 38.5 0     0     SOTON/O.Q. 3101262   7.2500 NA          S       \n",
       "1308   NA 0     0     359309               8.0500 NA          S       \n",
       "1309   NA 1     1     2668                22.3583 NA          C       "
      ]
     },
     "metadata": {},
     "output_type": "display_data"
    }
   ],
   "source": [
    "# combined data\n",
    "data"
   ]
  },
  {
   "cell_type": "code",
   "execution_count": 5,
   "metadata": {
    "collapsed": false
   },
   "outputs": [
    {
     "name": "stdout",
     "output_type": "stream",
     "text": [
      "Classes 'tbl_df', 'tbl' and 'data.frame':\t1309 obs. of  12 variables:\n",
      " $ PassengerId: int  1 2 3 4 5 6 7 8 9 10 ...\n",
      " $ Survived   : int  0 1 1 1 0 0 0 0 1 1 ...\n",
      " $ Pclass     : int  3 1 3 1 3 3 1 3 3 2 ...\n",
      " $ Name       : chr  \"Braund, Mr. Owen Harris\" \"Cumings, Mrs. John Bradley (Florence Briggs Thayer)\" \"Heikkinen, Miss. Laina\" \"Futrelle, Mrs. Jacques Heath (Lily May Peel)\" ...\n",
      " $ Sex        : chr  \"male\" \"female\" \"female\" \"female\" ...\n",
      " $ Age        : num  22 38 26 35 35 NA 54 2 27 14 ...\n",
      " $ SibSp      : int  1 1 0 1 0 0 0 3 0 1 ...\n",
      " $ Parch      : int  0 0 0 0 0 0 0 1 2 0 ...\n",
      " $ Ticket     : chr  \"A/5 21171\" \"PC 17599\" \"STON/O2. 3101282\" \"113803\" ...\n",
      " $ Fare       : num  7.25 71.28 7.92 53.1 8.05 ...\n",
      " $ Cabin      : chr  NA \"C85\" NA \"C123\" ...\n",
      " $ Embarked   : chr  \"S\" \"C\" \"S\" \"S\" ...\n"
     ]
    }
   ],
   "source": [
    "# observe the dataset\n",
    "str(data)"
   ]
  },
  {
   "cell_type": "markdown",
   "metadata": {},
   "source": [
    "** It could find 12 varibels 1309rows data in this dataset 891 for train data and 418 for test data **"
   ]
  },
  {
   "cell_type": "markdown",
   "metadata": {},
   "source": [
    "| **Variable** | **Definition** | **Key** |\n",
    " |:------ | :------ | :------ |\n",
    "| survival | Survival | 0 = No, 1 = Yes |\n",
    "| pclass | Ticket class | 1 = 1st, 2 = 2nd, 3 = 3rd |\n",
    "| sex | Sex |  |\n",
    "| Age | Age in years |  |\n",
    "| sibsp | # of siblings / spouses aboard the Titanic |  |\n",
    "| parch | # of parents / children aboard the Titanic |  |\n",
    "| ticket | Ticket number |  |\n",
    "| fare | Passenger fare |  |\n",
    "| cabin | Cabin number |  |\n",
    "| embarked | Port of Embarkation | C = Cherbourg, Q = Queenstown, S = Southampton |"
   ]
  },
  {
   "cell_type": "markdown",
   "metadata": {},
   "source": [
    "**It could find the data of AGE, CABIN and EMBARKED has missing value;\n",
    "Name, Sex, Ticket, Cabin and Embarked are strings**"
   ]
  },
  {
   "cell_type": "markdown",
   "metadata": {},
   "source": [
    "#  step 2: Anlysis the feature"
   ]
  },
  {
   "cell_type": "markdown",
   "metadata": {},
   "source": [
    "# ** For Pclass, transform to factor type varaible and check the relationship between survivor and Pclass**"
   ]
  },
  {
   "cell_type": "code",
   "execution_count": 6,
   "metadata": {
    "collapsed": true
   },
   "outputs": [],
   "source": [
    "data$Survived <- factor(data$Survived)"
   ]
  },
  {
   "cell_type": "code",
   "execution_count": 7,
   "metadata": {
    "collapsed": false
   },
   "outputs": [
    {
     "data": {},
     "metadata": {},
     "output_type": "display_data"
    },
    {
     "data": {
      "image/png": "[encoded data removed]",
      "text/plain": [
       "plot without title"
      ]
     },
     "metadata": {},
     "output_type": "display_data"
    }
   ],
   "source": [
    "ggplot(data = data[1:nrow(train),], mapping = aes(x = Pclass, y = ..count.., fill=Survived)) + \n",
    "  geom_bar(stat = \"count\", position='dodge') + \n",
    "  xlab('Pclass') + \n",
    "  ylab('Count') + \n",
    "  ggtitle('How Pclass impact survivor') + \n",
    "  scale_fill_manual(values=c(\"#FF0000\", \"#00FF00\")) +\n",
    "  geom_text(stat = \"count\", aes(label = ..count..), position=position_dodge(width=1), , vjust=-0.5) + \n",
    "  theme(plot.title = element_text(hjust = 0.5), legend.position=\"bottom\")"
   ]
  },
  {
   "cell_type": "markdown",
   "metadata": {},
   "source": [
    "** It could find most passergers in class 1 survivied, half in class 2, 25% in class 3\n",
    "According to WOE AND IV, it could find IV of Pclass IS 0.5 AND \"Highly Predictive\" **"
   ]
  },
  {
   "cell_type": "code",
   "execution_count": 8,
   "metadata": {
    "collapsed": false
   },
   "outputs": [
    {
     "data": {
      "text/html": [
       "<table>\n",
       "<thead><tr><th scope=col>CAT</th><th scope=col>GOODS</th><th scope=col>BADS</th><th scope=col>TOTAL</th><th scope=col>PCT_G</th><th scope=col>PCT_B</th><th scope=col>WOE</th><th scope=col>IV</th></tr></thead>\n",
       "<tbody>\n",
       "\t<tr><td>1         </td><td>136       </td><td> 80       </td><td>216       </td><td>0.3976608 </td><td>0.1457195 </td><td> 1.0039160</td><td>0.25292792</td></tr>\n",
       "\t<tr><td>2         </td><td> 87       </td><td> 97       </td><td>184       </td><td>0.2543860 </td><td>0.1766849 </td><td> 0.3644848</td><td>0.02832087</td></tr>\n",
       "\t<tr><td>3         </td><td>119       </td><td>372       </td><td>491       </td><td>0.3479532 </td><td>0.6775956 </td><td>-0.6664827</td><td>0.21970095</td></tr>\n",
       "</tbody>\n",
       "</table>\n"
      ],
      "text/latex": [
       "\\begin{tabular}{r|llllllll}\n",
       " CAT & GOODS & BADS & TOTAL & PCT\\_G & PCT\\_B & WOE & IV\\\\\n",
       "\\hline\n",
       "\t 1          & 136        &  80        & 216        & 0.3976608  & 0.1457195  &  1.0039160 & 0.25292792\\\\\n",
       "\t 2          &  87        &  97        & 184        & 0.2543860  & 0.1766849  &  0.3644848 & 0.02832087\\\\\n",
       "\t 3          & 119        & 372        & 491        & 0.3479532  & 0.6775956  & -0.6664827 & 0.21970095\\\\\n",
       "\\end{tabular}\n"
      ],
      "text/markdown": [
       "\n",
       "CAT | GOODS | BADS | TOTAL | PCT_G | PCT_B | WOE | IV | \n",
       "|---|---|---|\n",
       "| 1          | 136        |  80        | 216        | 0.3976608  | 0.1457195  |  1.0039160 | 0.25292792 | \n",
       "| 2          |  87        |  97        | 184        | 0.2543860  | 0.1766849  |  0.3644848 | 0.02832087 | \n",
       "| 3          | 119        | 372        | 491        | 0.3479532  | 0.6775956  | -0.6664827 | 0.21970095 | \n",
       "\n",
       "\n"
      ],
      "text/plain": [
       "  CAT GOODS BADS TOTAL PCT_G     PCT_B     WOE        IV        \n",
       "1 1   136    80  216   0.3976608 0.1457195  1.0039160 0.25292792\n",
       "2 2    87    97  184   0.2543860 0.1766849  0.3644848 0.02832087\n",
       "3 3   119   372  491   0.3479532 0.6775956 -0.6664827 0.21970095"
      ]
     },
     "metadata": {},
     "output_type": "display_data"
    }
   ],
   "source": [
    "WOETable(X=factor(data$Pclass[1:nrow(train)]), Y=data$Survived[1:nrow(train)])"
   ]
  },
  {
   "cell_type": "code",
   "execution_count": 9,
   "metadata": {
    "collapsed": false
   },
   "outputs": [
    {
     "data": {
      "text/html": [
       "0.500949737583947"
      ],
      "text/latex": [
       "0.500949737583947"
      ],
      "text/markdown": [
       "0.500949737583947"
      ],
      "text/plain": [
       "[1] 0.5009497\n",
       "attr(,\"howgood\")\n",
       "[1] \"Highly Predictive\""
      ]
     },
     "metadata": {},
     "output_type": "display_data"
    }
   ],
   "source": [
    "IV(X=factor(data$Pclass[1:nrow(train)]), Y=data$Survived[1:nrow(train)])"
   ]
  },
  {
   "cell_type": "markdown",
   "metadata": {},
   "source": [
    "# ** For Name, find relationship between survived and titles **"
   ]
  },
  {
   "cell_type": "code",
   "execution_count": 10,
   "metadata": {
    "collapsed": false
   },
   "outputs": [
    {
     "data": {},
     "metadata": {},
     "output_type": "display_data"
    },
    {
     "data": {
      "image/png": "[encoded data removed]",
      "text/plain": [
       "plot without title"
      ]
     },
     "metadata": {},
     "output_type": "display_data"
    }
   ],
   "source": [
    "# extract titile from name\n",
    "data$Title <- sapply(data$Name, FUN=function(x) {strsplit(x, split='[,.]')[[1]][2]})\n",
    "data$Title <- sub(' ', '', data$Title)\n",
    "data$Title[data$Title %in% c('Mme', 'Mlle')] <- 'Mlle'\n",
    "data$Title[data$Title %in% c('Capt', 'Don', 'Major', 'Sir')] <- 'Sir'\n",
    "data$Title[data$Title %in% c('Dona', 'Lady', 'the Countess', 'Jonkheer')] <- 'Lady'\n",
    "data$Title <- factor(data$Title)\n",
    "# statistics different titiles\n",
    "ggplot(data = data[1:nrow(train),], mapping = aes(x = Title, y = ..count.., fill=Survived)) + \n",
    "  geom_bar(stat = \"count\", position='stack') + \n",
    "  xlab('Title') + \n",
    "  ylab('Count') + \n",
    "  ggtitle('How Title impact survivor') + \n",
    "  scale_fill_discrete(name=\"Survived\", breaks=c(0, 1), labels=c(\"Perish\", \"Survived\")) + \n",
    "  geom_text(stat = \"count\", aes(label = ..count..), position=position_stack(vjust = 0.5)) +\n",
    "  theme(plot.title = element_text(hjust = 0.5), legend.position=\"bottom\")"
   ]
  },
  {
   "cell_type": "markdown",
   "metadata": {},
   "source": [
    "** It could find most Famel survivied.\n",
    "According to WOE AND IV, it could find IV of Pclass IS 1.520702 AND \"Highly Predictive\" **"
   ]
  },
  {
   "cell_type": "code",
   "execution_count": 11,
   "metadata": {
    "collapsed": false
   },
   "outputs": [
    {
     "data": {
      "text/html": [
       "<table>\n",
       "<thead><tr><th scope=col>CAT</th><th scope=col>GOODS</th><th scope=col>BADS</th><th scope=col>TOTAL</th><th scope=col>PCT_G</th><th scope=col>PCT_B</th><th scope=col>WOE</th><th scope=col>IV</th></tr></thead>\n",
       "<tbody>\n",
       "\t<tr><td>Col         </td><td>  1         </td><td>  1         </td><td>  2         </td><td>0.002873563 </td><td>0.001808318 </td><td> 0.46315552 </td><td>4.933741e-04</td></tr>\n",
       "\t<tr><td>Dr          </td><td>  3         </td><td>  4         </td><td>  7         </td><td>0.008620690 </td><td>0.007233273 </td><td> 0.17547345 </td><td>2.434548e-04</td></tr>\n",
       "\t<tr><td>Lady        </td><td>  2         </td><td>  1         </td><td>  3         </td><td>0.005747126 </td><td>0.001808318 </td><td> 1.15630270 </td><td>4.554455e-03</td></tr>\n",
       "\t<tr><td>Master      </td><td> 23         </td><td> 17         </td><td> 40         </td><td>0.066091954 </td><td>0.030741410 </td><td> 0.76543639 </td><td>2.705859e-02</td></tr>\n",
       "\t<tr><td>Miss        </td><td>127         </td><td> 55         </td><td>182         </td><td>0.364942529 </td><td>0.099457505 </td><td> 1.30000942 </td><td>3.451330e-01</td></tr>\n",
       "\t<tr><td>Mlle        </td><td>  3         </td><td>  3         </td><td>  3         </td><td>0.008620690 </td><td>0.005424955 </td><td> 0.46315552 </td><td>1.480122e-03</td></tr>\n",
       "\t<tr><td>Mr          </td><td> 81         </td><td>436         </td><td>517         </td><td>0.232758621 </td><td>0.788426763 </td><td>-1.22003757 </td><td>6.779360e-01</td></tr>\n",
       "\t<tr><td>Mrs         </td><td> 99         </td><td> 26         </td><td>125         </td><td>0.284482759 </td><td>0.047016275 </td><td> 1.80017883 </td><td>4.274821e-01</td></tr>\n",
       "\t<tr><td>Ms          </td><td>  1         </td><td>  1         </td><td>  1         </td><td>0.002873563 </td><td>0.001808318 </td><td> 0.46315552 </td><td>4.933741e-04</td></tr>\n",
       "\t<tr><td>Rev         </td><td>  6         </td><td>  6         </td><td>  6         </td><td>0.017241379 </td><td>0.010849910 </td><td> 0.46315552 </td><td>2.960244e-03</td></tr>\n",
       "\t<tr><td>Sir         </td><td>  2         </td><td>  3         </td><td>  5         </td><td>0.005747126 </td><td>0.005424955 </td><td> 0.05769041 </td><td>1.858622e-05</td></tr>\n",
       "</tbody>\n",
       "</table>\n"
      ],
      "text/latex": [
       "\\begin{tabular}{r|llllllll}\n",
       " CAT & GOODS & BADS & TOTAL & PCT\\_G & PCT\\_B & WOE & IV\\\\\n",
       "\\hline\n",
       "\t Col          &   1          &   1          &   2          & 0.002873563  & 0.001808318  &  0.46315552  & 4.933741e-04\\\\\n",
       "\t Dr           &   3          &   4          &   7          & 0.008620690  & 0.007233273  &  0.17547345  & 2.434548e-04\\\\\n",
       "\t Lady         &   2          &   1          &   3          & 0.005747126  & 0.001808318  &  1.15630270  & 4.554455e-03\\\\\n",
       "\t Master       &  23          &  17          &  40          & 0.066091954  & 0.030741410  &  0.76543639  & 2.705859e-02\\\\\n",
       "\t Miss         & 127          &  55          & 182          & 0.364942529  & 0.099457505  &  1.30000942  & 3.451330e-01\\\\\n",
       "\t Mlle         &   3          &   3          &   3          & 0.008620690  & 0.005424955  &  0.46315552  & 1.480122e-03\\\\\n",
       "\t Mr           &  81          & 436          & 517          & 0.232758621  & 0.788426763  & -1.22003757  & 6.779360e-01\\\\\n",
       "\t Mrs          &  99          &  26          & 125          & 0.284482759  & 0.047016275  &  1.80017883  & 4.274821e-01\\\\\n",
       "\t Ms           &   1          &   1          &   1          & 0.002873563  & 0.001808318  &  0.46315552  & 4.933741e-04\\\\\n",
       "\t Rev          &   6          &   6          &   6          & 0.017241379  & 0.010849910  &  0.46315552  & 2.960244e-03\\\\\n",
       "\t Sir          &   2          &   3          &   5          & 0.005747126  & 0.005424955  &  0.05769041  & 1.858622e-05\\\\\n",
       "\\end{tabular}\n"
      ],
      "text/markdown": [
       "\n",
       "CAT | GOODS | BADS | TOTAL | PCT_G | PCT_B | WOE | IV | \n",
       "|---|---|---|---|---|---|---|---|---|---|---|\n",
       "| Col          |   1          |   1          |   2          | 0.002873563  | 0.001808318  |  0.46315552  | 4.933741e-04 | \n",
       "| Dr           |   3          |   4          |   7          | 0.008620690  | 0.007233273  |  0.17547345  | 2.434548e-04 | \n",
       "| Lady         |   2          |   1          |   3          | 0.005747126  | 0.001808318  |  1.15630270  | 4.554455e-03 | \n",
       "| Master       |  23          |  17          |  40          | 0.066091954  | 0.030741410  |  0.76543639  | 2.705859e-02 | \n",
       "| Miss         | 127          |  55          | 182          | 0.364942529  | 0.099457505  |  1.30000942  | 3.451330e-01 | \n",
       "| Mlle         |   3          |   3          |   3          | 0.008620690  | 0.005424955  |  0.46315552  | 1.480122e-03 | \n",
       "| Mr           |  81          | 436          | 517          | 0.232758621  | 0.788426763  | -1.22003757  | 6.779360e-01 | \n",
       "| Mrs          |  99          |  26          | 125          | 0.284482759  | 0.047016275  |  1.80017883  | 4.274821e-01 | \n",
       "| Ms           |   1          |   1          |   1          | 0.002873563  | 0.001808318  |  0.46315552  | 4.933741e-04 | \n",
       "| Rev          |   6          |   6          |   6          | 0.017241379  | 0.010849910  |  0.46315552  | 2.960244e-03 | \n",
       "| Sir          |   2          |   3          |   5          | 0.005747126  | 0.005424955  |  0.05769041  | 1.858622e-05 | \n",
       "\n",
       "\n"
      ],
      "text/plain": [
       "   CAT    GOODS BADS TOTAL PCT_G       PCT_B       WOE         IV          \n",
       "1  Col      1     1    2   0.002873563 0.001808318  0.46315552 4.933741e-04\n",
       "2  Dr       3     4    7   0.008620690 0.007233273  0.17547345 2.434548e-04\n",
       "3  Lady     2     1    3   0.005747126 0.001808318  1.15630270 4.554455e-03\n",
       "4  Master  23    17   40   0.066091954 0.030741410  0.76543639 2.705859e-02\n",
       "5  Miss   127    55  182   0.364942529 0.099457505  1.30000942 3.451330e-01\n",
       "6  Mlle     3     3    3   0.008620690 0.005424955  0.46315552 1.480122e-03\n",
       "7  Mr      81   436  517   0.232758621 0.788426763 -1.22003757 6.779360e-01\n",
       "8  Mrs     99    26  125   0.284482759 0.047016275  1.80017883 4.274821e-01\n",
       "9  Ms       1     1    1   0.002873563 0.001808318  0.46315552 4.933741e-04\n",
       "10 Rev      6     6    6   0.017241379 0.010849910  0.46315552 2.960244e-03\n",
       "11 Sir      2     3    5   0.005747126 0.005424955  0.05769041 1.858622e-05"
      ]
     },
     "metadata": {},
     "output_type": "display_data"
    }
   ],
   "source": [
    "WOETable(X=data$Title[1:nrow(train)], Y=data$Survived[1:nrow(train)])"
   ]
  },
  {
   "cell_type": "code",
   "execution_count": 12,
   "metadata": {
    "collapsed": false
   },
   "outputs": [
    {
     "data": {
      "text/html": [
       "1.48785338243645"
      ],
      "text/latex": [
       "1.48785338243645"
      ],
      "text/markdown": [
       "1.48785338243645"
      ],
      "text/plain": [
       "[1] 1.487853\n",
       "attr(,\"howgood\")\n",
       "[1] \"Highly Predictive\""
      ]
     },
     "metadata": {},
     "output_type": "display_data"
    }
   ],
   "source": [
    "IV(X=data$Title[1:nrow(train)], Y=data$Survived[1:nrow(train)])"
   ]
  },
  {
   "cell_type": "markdown",
   "metadata": {},
   "source": [
    "# ** For Sex, find relationship between survived and sex of people **"
   ]
  },
  {
   "cell_type": "code",
   "execution_count": 13,
   "metadata": {
    "collapsed": false
   },
   "outputs": [
    {
     "data": {},
     "metadata": {},
     "output_type": "display_data"
    },
    {
     "data": {
      "image/png": "[encoded data removed]",
      "text/plain": [
       "plot without title"
      ]
     },
     "metadata": {},
     "output_type": "display_data"
    }
   ],
   "source": [
    "data$Sex <- as.factor(data$Sex)\n",
    "ggplot(data = data[1:nrow(train),], mapping = aes(x = Sex, y = ..count.., fill=Survived)) + \n",
    "  geom_bar(stat = 'count', position='dodge') + \n",
    "  xlab('Sex') + \n",
    "  ylab('Count') + \n",
    "  ggtitle('How Sex impact survivo') + \n",
    "  geom_text(stat = \"count\", aes(label = ..count..), position=position_dodge(width=1), , vjust=-0.5) + \n",
    "  theme(plot.title = element_text(hjust = 0.5), legend.position=\"bottom\")"
   ]
  },
  {
   "cell_type": "markdown",
   "metadata": {},
   "source": [
    "** It could find most femal servived because \"Let the womens and the children go first please.\" \n",
    "According to WOE AND IV, it could find IV of Pclass IS 1.34 AND \"Highly Predictive\" **"
   ]
  },
  {
   "cell_type": "code",
   "execution_count": 14,
   "metadata": {
    "collapsed": false
   },
   "outputs": [
    {
     "data": {
      "text/html": [
       "<table>\n",
       "<thead><tr><th scope=col>CAT</th><th scope=col>GOODS</th><th scope=col>BADS</th><th scope=col>TOTAL</th><th scope=col>PCT_G</th><th scope=col>PCT_B</th><th scope=col>WOE</th><th scope=col>IV</th></tr></thead>\n",
       "<tbody>\n",
       "\t<tr><td>female    </td><td>233       </td><td> 81       </td><td>314       </td><td>0.6812865 </td><td>0.147541  </td><td> 1.5298770</td><td>0.8165651 </td></tr>\n",
       "\t<tr><td>male      </td><td>109       </td><td>468       </td><td>577       </td><td>0.3187135 </td><td>0.852459  </td><td>-0.9838327</td><td>0.5251163 </td></tr>\n",
       "</tbody>\n",
       "</table>\n"
      ],
      "text/latex": [
       "\\begin{tabular}{r|llllllll}\n",
       " CAT & GOODS & BADS & TOTAL & PCT\\_G & PCT\\_B & WOE & IV\\\\\n",
       "\\hline\n",
       "\t female     & 233        &  81        & 314        & 0.6812865  & 0.147541   &  1.5298770 & 0.8165651 \\\\\n",
       "\t male       & 109        & 468        & 577        & 0.3187135  & 0.852459   & -0.9838327 & 0.5251163 \\\\\n",
       "\\end{tabular}\n"
      ],
      "text/markdown": [
       "\n",
       "CAT | GOODS | BADS | TOTAL | PCT_G | PCT_B | WOE | IV | \n",
       "|---|---|\n",
       "| female     | 233        |  81        | 314        | 0.6812865  | 0.147541   |  1.5298770 | 0.8165651  | \n",
       "| male       | 109        | 468        | 577        | 0.3187135  | 0.852459   | -0.9838327 | 0.5251163  | \n",
       "\n",
       "\n"
      ],
      "text/plain": [
       "  CAT    GOODS BADS TOTAL PCT_G     PCT_B    WOE        IV       \n",
       "1 female 233    81  314   0.6812865 0.147541  1.5298770 0.8165651\n",
       "2 male   109   468  577   0.3187135 0.852459 -0.9838327 0.5251163"
      ]
     },
     "metadata": {},
     "output_type": "display_data"
    }
   ],
   "source": [
    "WOETable(X=data$Sex[1:nrow(train)], Y=data$Survived[1:nrow(train)])"
   ]
  },
  {
   "cell_type": "code",
   "execution_count": 15,
   "metadata": {
    "collapsed": false
   },
   "outputs": [
    {
     "data": {
      "text/html": [
       "1.34168141355565"
      ],
      "text/latex": [
       "1.34168141355565"
      ],
      "text/markdown": [
       "1.34168141355565"
      ],
      "text/plain": [
       "[1] 1.341681\n",
       "attr(,\"howgood\")\n",
       "[1] \"Highly Predictive\""
      ]
     },
     "metadata": {},
     "output_type": "display_data"
    }
   ],
   "source": [
    "IV(X=data$Sex[1:nrow(train)], Y=data$Survived[1:nrow(train)])"
   ]
  },
  {
   "cell_type": "markdown",
   "metadata": {},
   "source": [
    "# ** For Age, find relationship between survived and age of people **"
   ]
  },
  {
   "cell_type": "code",
   "execution_count": 16,
   "metadata": {
    "collapsed": false
   },
   "outputs": [
    {
     "name": "stderr",
     "output_type": "stream",
     "text": [
      "Warning message:\n",
      "\"Ignoring unknown aesthetics: label\""
     ]
    },
    {
     "data": {},
     "metadata": {},
     "output_type": "display_data"
    },
    {
     "data": {
      "image/png": "[encoded data removed]",
      "text/plain": [
       "plot without title"
      ]
     },
     "metadata": {},
     "output_type": "display_data"
    }
   ],
   "source": [
    "ggplot(data = data[(!is.na(data$Age)) & row(data[, 'Age']) <= 891, ], aes(x = Age, color=Survived)) + \n",
    "  geom_line(aes(label=..count..), stat = 'bin', binwidth=5)  + \n",
    "  labs(title = \"How Age impact survivor\", x = \"Age\", y = \"Count\", fill = \"Survived\")"
   ]
  },
  {
   "cell_type": "markdown",
   "metadata": {},
   "source": [
    "** It could find survivied people higher than died for children **"
   ]
  },
  {
   "cell_type": "markdown",
   "metadata": {},
   "source": [
    "# ** For SibSp, find relationship between survived and relative number **"
   ]
  },
  {
   "cell_type": "code",
   "execution_count": 17,
   "metadata": {
    "collapsed": false
   },
   "outputs": [
    {
     "data": {},
     "metadata": {},
     "output_type": "display_data"
    },
    {
     "data": {
      "image/png": "[encoded data removed]",
      "text/plain": [
       "plot without title"
      ]
     },
     "metadata": {},
     "output_type": "display_data"
    }
   ],
   "source": [
    "ggplot(data = data[1:nrow(train),], mapping = aes(x = SibSp, y = ..count.., fill=Survived)) + \n",
    "  geom_bar(stat = 'count', position='dodge') + \n",
    "  labs(title = \"How SibSp impact survivor\", x = \"Sibsp\", y = \"Count\", fill = \"Survived\") + \n",
    "  geom_text(stat = \"count\", aes(label = ..count..), position=position_dodge(width=1), , vjust=-0.5) + \n",
    "  theme(plot.title = element_text(hjust = 0.5), legend.position=\"bottom\")"
   ]
  },
  {
   "cell_type": "markdown",
   "metadata": {},
   "source": [
    "**\n",
    "According to WOE AND IV, it could find IV of Pclass IS 0.144 AND \"Highly Predictive\" **"
   ]
  },
  {
   "cell_type": "code",
   "execution_count": 18,
   "metadata": {
    "collapsed": false
   },
   "outputs": [
    {
     "data": {
      "text/html": [
       "<table>\n",
       "<thead><tr><th scope=col>CAT</th><th scope=col>GOODS</th><th scope=col>BADS</th><th scope=col>TOTAL</th><th scope=col>PCT_G</th><th scope=col>PCT_B</th><th scope=col>WOE</th><th scope=col>IV</th></tr></thead>\n",
       "<tbody>\n",
       "\t<tr><td>0          </td><td>210        </td><td>398        </td><td>608        </td><td>0.593220339</td><td>0.724954463</td><td>-0.2005429 </td><td>0.026418349</td></tr>\n",
       "\t<tr><td>1          </td><td>112        </td><td> 97        </td><td>209        </td><td>0.316384181</td><td>0.176684882</td><td> 0.5825894 </td><td>0.081387334</td></tr>\n",
       "\t<tr><td>2          </td><td> 13        </td><td> 15        </td><td> 28        </td><td>0.036723164</td><td>0.027322404</td><td> 0.2957007 </td><td>0.002779811</td></tr>\n",
       "\t<tr><td>3          </td><td>  4        </td><td> 12        </td><td> 16        </td><td>0.011299435</td><td>0.021857923</td><td>-0.6598108 </td><td>0.006966604</td></tr>\n",
       "\t<tr><td>4          </td><td>  3        </td><td> 15        </td><td> 18        </td><td>0.008474576</td><td>0.027322404</td><td>-1.1706364 </td><td>0.022063953</td></tr>\n",
       "\t<tr><td>5          </td><td>  5        </td><td>  5        </td><td>  5        </td><td>0.014124294</td><td>0.009107468</td><td> 0.4388015 </td><td>0.002201391</td></tr>\n",
       "\t<tr><td>8          </td><td>  7        </td><td>  7        </td><td>  7        </td><td>0.019774011</td><td>0.012750455</td><td> 0.4388015 </td><td>0.003081947</td></tr>\n",
       "</tbody>\n",
       "</table>\n"
      ],
      "text/latex": [
       "\\begin{tabular}{r|llllllll}\n",
       " CAT & GOODS & BADS & TOTAL & PCT\\_G & PCT\\_B & WOE & IV\\\\\n",
       "\\hline\n",
       "\t 0           & 210         & 398         & 608         & 0.593220339 & 0.724954463 & -0.2005429  & 0.026418349\\\\\n",
       "\t 1           & 112         &  97         & 209         & 0.316384181 & 0.176684882 &  0.5825894  & 0.081387334\\\\\n",
       "\t 2           &  13         &  15         &  28         & 0.036723164 & 0.027322404 &  0.2957007  & 0.002779811\\\\\n",
       "\t 3           &   4         &  12         &  16         & 0.011299435 & 0.021857923 & -0.6598108  & 0.006966604\\\\\n",
       "\t 4           &   3         &  15         &  18         & 0.008474576 & 0.027322404 & -1.1706364  & 0.022063953\\\\\n",
       "\t 5           &   5         &   5         &   5         & 0.014124294 & 0.009107468 &  0.4388015  & 0.002201391\\\\\n",
       "\t 8           &   7         &   7         &   7         & 0.019774011 & 0.012750455 &  0.4388015  & 0.003081947\\\\\n",
       "\\end{tabular}\n"
      ],
      "text/markdown": [
       "\n",
       "CAT | GOODS | BADS | TOTAL | PCT_G | PCT_B | WOE | IV | \n",
       "|---|---|---|---|---|---|---|\n",
       "| 0           | 210         | 398         | 608         | 0.593220339 | 0.724954463 | -0.2005429  | 0.026418349 | \n",
       "| 1           | 112         |  97         | 209         | 0.316384181 | 0.176684882 |  0.5825894  | 0.081387334 | \n",
       "| 2           |  13         |  15         |  28         | 0.036723164 | 0.027322404 |  0.2957007  | 0.002779811 | \n",
       "| 3           |   4         |  12         |  16         | 0.011299435 | 0.021857923 | -0.6598108  | 0.006966604 | \n",
       "| 4           |   3         |  15         |  18         | 0.008474576 | 0.027322404 | -1.1706364  | 0.022063953 | \n",
       "| 5           |   5         |   5         |   5         | 0.014124294 | 0.009107468 |  0.4388015  | 0.002201391 | \n",
       "| 8           |   7         |   7         |   7         | 0.019774011 | 0.012750455 |  0.4388015  | 0.003081947 | \n",
       "\n",
       "\n"
      ],
      "text/plain": [
       "  CAT GOODS BADS TOTAL PCT_G       PCT_B       WOE        IV         \n",
       "1 0   210   398  608   0.593220339 0.724954463 -0.2005429 0.026418349\n",
       "2 1   112    97  209   0.316384181 0.176684882  0.5825894 0.081387334\n",
       "3 2    13    15   28   0.036723164 0.027322404  0.2957007 0.002779811\n",
       "4 3     4    12   16   0.011299435 0.021857923 -0.6598108 0.006966604\n",
       "5 4     3    15   18   0.008474576 0.027322404 -1.1706364 0.022063953\n",
       "6 5     5     5    5   0.014124294 0.009107468  0.4388015 0.002201391\n",
       "7 8     7     7    7   0.019774011 0.012750455  0.4388015 0.003081947"
      ]
     },
     "metadata": {},
     "output_type": "display_data"
    }
   ],
   "source": [
    "WOETable(X=as.factor(data$SibSp[1:nrow(train)]), Y=data$Survived[1:nrow(train)])"
   ]
  },
  {
   "cell_type": "code",
   "execution_count": 19,
   "metadata": {
    "collapsed": false
   },
   "outputs": [
    {
     "data": {
      "text/html": [
       "0.144899389621706"
      ],
      "text/latex": [
       "0.144899389621706"
      ],
      "text/markdown": [
       "0.144899389621706"
      ],
      "text/plain": [
       "[1] 0.1448994\n",
       "attr(,\"howgood\")\n",
       "[1] \"Highly Predictive\""
      ]
     },
     "metadata": {},
     "output_type": "display_data"
    }
   ],
   "source": [
    "IV(X=as.factor(data$SibSp[1:nrow(train)]), Y=data$Survived[1:nrow(train)])"
   ]
  },
  {
   "cell_type": "markdown",
   "metadata": {},
   "source": [
    "# ** For Patch, find relationship between survived and parents and childs **"
   ]
  },
  {
   "cell_type": "code",
   "execution_count": 20,
   "metadata": {
    "collapsed": false
   },
   "outputs": [
    {
     "data": {},
     "metadata": {},
     "output_type": "display_data"
    },
    {
     "data": {
      "image/png": "[encoded data removed]",
      "text/plain": [
       "plot without title"
      ]
     },
     "metadata": {},
     "output_type": "display_data"
    }
   ],
   "source": [
    "ggplot(data = data[1:nrow(train),], mapping = aes(x = Parch, y = ..count.., fill=Survived)) + \n",
    "  geom_bar(stat = 'count', position='dodge') + \n",
    "  labs(title = \"How Parch impact survivor\", x = \"Parch\", y = \"Count\", fill = \"Survived\") + \n",
    "  geom_text(stat = \"count\", aes(label = ..count..), position=position_dodge(width=1), , vjust=-0.5) + \n",
    "  theme(plot.title = element_text(hjust = 0.5), legend.position=\"bottom\")"
   ]
  },
  {
   "cell_type": "markdown",
   "metadata": {},
   "source": [
    "**According to WOE AND IV, it could find IV of Pclass IS 0.116 AND \"Highly Predictive\" **"
   ]
  },
  {
   "cell_type": "code",
   "execution_count": 21,
   "metadata": {
    "collapsed": false
   },
   "outputs": [
    {
     "data": {
      "text/html": [
       "<table>\n",
       "<thead><tr><th scope=col>CAT</th><th scope=col>GOODS</th><th scope=col>BADS</th><th scope=col>TOTAL</th><th scope=col>PCT_G</th><th scope=col>PCT_B</th><th scope=col>WOE</th><th scope=col>IV</th></tr></thead>\n",
       "<tbody>\n",
       "\t<tr><td>0          </td><td>233        </td><td>445        </td><td>678        </td><td>0.671469741</td><td>0.810564663</td><td>-0.1882622 </td><td>0.026186312</td></tr>\n",
       "\t<tr><td>1          </td><td> 65        </td><td> 53        </td><td>118        </td><td>0.187319885</td><td>0.096539162</td><td> 0.6628690 </td><td>0.060175728</td></tr>\n",
       "\t<tr><td>2          </td><td> 40        </td><td> 40        </td><td> 80        </td><td>0.115273775</td><td>0.072859745</td><td> 0.4587737 </td><td>0.019458440</td></tr>\n",
       "\t<tr><td>3          </td><td>  3        </td><td>  2        </td><td>  5        </td><td>0.008645533</td><td>0.003642987</td><td> 0.8642388 </td><td>0.004323394</td></tr>\n",
       "\t<tr><td>4          </td><td>  4        </td><td>  4        </td><td>  4        </td><td>0.011527378</td><td>0.007285974</td><td> 0.4587737 </td><td>0.001945844</td></tr>\n",
       "\t<tr><td>5          </td><td>  1        </td><td>  4        </td><td>  5        </td><td>0.002881844</td><td>0.007285974</td><td>-0.9275207 </td><td>0.004084922</td></tr>\n",
       "\t<tr><td>6          </td><td>  1        </td><td>  1        </td><td>  1        </td><td>0.002881844</td><td>0.001821494</td><td> 0.4587737 </td><td>0.000486461</td></tr>\n",
       "</tbody>\n",
       "</table>\n"
      ],
      "text/latex": [
       "\\begin{tabular}{r|llllllll}\n",
       " CAT & GOODS & BADS & TOTAL & PCT\\_G & PCT\\_B & WOE & IV\\\\\n",
       "\\hline\n",
       "\t 0           & 233         & 445         & 678         & 0.671469741 & 0.810564663 & -0.1882622  & 0.026186312\\\\\n",
       "\t 1           &  65         &  53         & 118         & 0.187319885 & 0.096539162 &  0.6628690  & 0.060175728\\\\\n",
       "\t 2           &  40         &  40         &  80         & 0.115273775 & 0.072859745 &  0.4587737  & 0.019458440\\\\\n",
       "\t 3           &   3         &   2         &   5         & 0.008645533 & 0.003642987 &  0.8642388  & 0.004323394\\\\\n",
       "\t 4           &   4         &   4         &   4         & 0.011527378 & 0.007285974 &  0.4587737  & 0.001945844\\\\\n",
       "\t 5           &   1         &   4         &   5         & 0.002881844 & 0.007285974 & -0.9275207  & 0.004084922\\\\\n",
       "\t 6           &   1         &   1         &   1         & 0.002881844 & 0.001821494 &  0.4587737  & 0.000486461\\\\\n",
       "\\end{tabular}\n"
      ],
      "text/markdown": [
       "\n",
       "CAT | GOODS | BADS | TOTAL | PCT_G | PCT_B | WOE | IV | \n",
       "|---|---|---|---|---|---|---|\n",
       "| 0           | 233         | 445         | 678         | 0.671469741 | 0.810564663 | -0.1882622  | 0.026186312 | \n",
       "| 1           |  65         |  53         | 118         | 0.187319885 | 0.096539162 |  0.6628690  | 0.060175728 | \n",
       "| 2           |  40         |  40         |  80         | 0.115273775 | 0.072859745 |  0.4587737  | 0.019458440 | \n",
       "| 3           |   3         |   2         |   5         | 0.008645533 | 0.003642987 |  0.8642388  | 0.004323394 | \n",
       "| 4           |   4         |   4         |   4         | 0.011527378 | 0.007285974 |  0.4587737  | 0.001945844 | \n",
       "| 5           |   1         |   4         |   5         | 0.002881844 | 0.007285974 | -0.9275207  | 0.004084922 | \n",
       "| 6           |   1         |   1         |   1         | 0.002881844 | 0.001821494 |  0.4587737  | 0.000486461 | \n",
       "\n",
       "\n"
      ],
      "text/plain": [
       "  CAT GOODS BADS TOTAL PCT_G       PCT_B       WOE        IV         \n",
       "1 0   233   445  678   0.671469741 0.810564663 -0.1882622 0.026186312\n",
       "2 1    65    53  118   0.187319885 0.096539162  0.6628690 0.060175728\n",
       "3 2    40    40   80   0.115273775 0.072859745  0.4587737 0.019458440\n",
       "4 3     3     2    5   0.008645533 0.003642987  0.8642388 0.004323394\n",
       "5 4     4     4    4   0.011527378 0.007285974  0.4587737 0.001945844\n",
       "6 5     1     4    5   0.002881844 0.007285974 -0.9275207 0.004084922\n",
       "7 6     1     1    1   0.002881844 0.001821494  0.4587737 0.000486461"
      ]
     },
     "metadata": {},
     "output_type": "display_data"
    }
   ],
   "source": [
    "WOETable(X=as.factor(data$Parch[1:nrow(train)]), Y=data$Survived[1:nrow(train)])"
   ]
  },
  {
   "cell_type": "code",
   "execution_count": 22,
   "metadata": {
    "collapsed": false
   },
   "outputs": [
    {
     "data": {
      "text/html": [
       "0.116661100853365"
      ],
      "text/latex": [
       "0.116661100853365"
      ],
      "text/markdown": [
       "0.116661100853365"
      ],
      "text/plain": [
       "[1] 0.1166611\n",
       "attr(,\"howgood\")\n",
       "[1] \"Highly Predictive\""
      ]
     },
     "metadata": {},
     "output_type": "display_data"
    }
   ],
   "source": [
    "IV(X=as.factor(data$Parch[1:nrow(train)]), Y=data$Survived[1:nrow(train)])"
   ]
  },
  {
   "cell_type": "markdown",
   "metadata": {},
   "source": [
    "# ** For Patch and SibSp we could extrct new feature family size, find relationship between survived and familiy size **"
   ]
  },
  {
   "cell_type": "code",
   "execution_count": 23,
   "metadata": {
    "collapsed": false
   },
   "outputs": [
    {
     "data": {},
     "metadata": {},
     "output_type": "display_data"
    },
    {
     "data": {
      "image/png": "[encoded data removed]",
      "text/plain": [
       "plot without title"
      ]
     },
     "metadata": {},
     "output_type": "display_data"
    }
   ],
   "source": [
    "data$FamilySize <- data$SibSp + data$Parch + 1\n",
    "ggplot(data = data[1:nrow(train),], mapping = aes(x = FamilySize, y = ..count.., fill=Survived)) + \n",
    "  geom_bar(stat = 'count', position='dodge') + \n",
    "  xlab('FamilySize') + \n",
    "  ylab('Count') + \n",
    "  ggtitle('How FamilySize impact survivor') + \n",
    "  geom_text(stat = \"count\", aes(label = ..count..), position=position_dodge(width=1), , vjust=-0.5) + \n",
    "  theme(plot.title = element_text(hjust = 0.5), legend.position=\"bottom\")"
   ]
  },
  {
   "cell_type": "markdown",
   "metadata": {},
   "source": [
    "**According to WOE AND IV, it could find IV of Pclass IS 0.3479 AND \"Highly Predictive\". And because the IV is higher than priours fatures which means this new features could be a reasonable new feature **"
   ]
  },
  {
   "cell_type": "code",
   "execution_count": 24,
   "metadata": {
    "collapsed": false
   },
   "outputs": [
    {
     "data": {
      "text/html": [
       "<table>\n",
       "<thead><tr><th scope=col>CAT</th><th scope=col>GOODS</th><th scope=col>BADS</th><th scope=col>TOTAL</th><th scope=col>PCT_G</th><th scope=col>PCT_B</th><th scope=col>WOE</th><th scope=col>IV</th></tr></thead>\n",
       "<tbody>\n",
       "\t<tr><td>1           </td><td>163         </td><td>374         </td><td>537         </td><td>0.459154930 </td><td>0.68123862  </td><td>-0.3945249  </td><td>0.0876175539</td></tr>\n",
       "\t<tr><td>2           </td><td> 89         </td><td> 72         </td><td>161         </td><td>0.250704225 </td><td>0.13114754  </td><td> 0.6479509  </td><td>0.0774668616</td></tr>\n",
       "\t<tr><td>3           </td><td> 59         </td><td> 43         </td><td>102         </td><td>0.166197183 </td><td>0.07832423  </td><td> 0.7523180  </td><td>0.0661084057</td></tr>\n",
       "\t<tr><td>4           </td><td> 21         </td><td>  8         </td><td> 29         </td><td>0.059154930 </td><td>0.01457195  </td><td> 1.4010615  </td><td>0.0624634998</td></tr>\n",
       "\t<tr><td>5           </td><td>  3         </td><td> 12         </td><td> 15         </td><td>0.008450704 </td><td>0.02185792  </td><td>-0.9503137  </td><td>0.0127410643</td></tr>\n",
       "\t<tr><td>6           </td><td>  3         </td><td> 19         </td><td> 22         </td><td>0.008450704 </td><td>0.03460838  </td><td>-1.4098460  </td><td>0.0368782940</td></tr>\n",
       "\t<tr><td>7           </td><td>  4         </td><td>  8         </td><td> 12         </td><td>0.011267606 </td><td>0.01457195  </td><td>-0.2571665  </td><td>0.0008497665</td></tr>\n",
       "\t<tr><td>8           </td><td>  6         </td><td>  6         </td><td>  6         </td><td>0.016901408 </td><td>0.01092896  </td><td> 0.4359807  </td><td>0.0026038712</td></tr>\n",
       "\t<tr><td>11          </td><td>  7         </td><td>  7         </td><td>  7         </td><td>0.019718310 </td><td>0.01275046  </td><td> 0.4359807  </td><td>0.0030378497</td></tr>\n",
       "</tbody>\n",
       "</table>\n"
      ],
      "text/latex": [
       "\\begin{tabular}{r|llllllll}\n",
       " CAT & GOODS & BADS & TOTAL & PCT\\_G & PCT\\_B & WOE & IV\\\\\n",
       "\\hline\n",
       "\t 1            & 163          & 374          & 537          & 0.459154930  & 0.68123862   & -0.3945249   & 0.0876175539\\\\\n",
       "\t 2            &  89          &  72          & 161          & 0.250704225  & 0.13114754   &  0.6479509   & 0.0774668616\\\\\n",
       "\t 3            &  59          &  43          & 102          & 0.166197183  & 0.07832423   &  0.7523180   & 0.0661084057\\\\\n",
       "\t 4            &  21          &   8          &  29          & 0.059154930  & 0.01457195   &  1.4010615   & 0.0624634998\\\\\n",
       "\t 5            &   3          &  12          &  15          & 0.008450704  & 0.02185792   & -0.9503137   & 0.0127410643\\\\\n",
       "\t 6            &   3          &  19          &  22          & 0.008450704  & 0.03460838   & -1.4098460   & 0.0368782940\\\\\n",
       "\t 7            &   4          &   8          &  12          & 0.011267606  & 0.01457195   & -0.2571665   & 0.0008497665\\\\\n",
       "\t 8            &   6          &   6          &   6          & 0.016901408  & 0.01092896   &  0.4359807   & 0.0026038712\\\\\n",
       "\t 11           &   7          &   7          &   7          & 0.019718310  & 0.01275046   &  0.4359807   & 0.0030378497\\\\\n",
       "\\end{tabular}\n"
      ],
      "text/markdown": [
       "\n",
       "CAT | GOODS | BADS | TOTAL | PCT_G | PCT_B | WOE | IV | \n",
       "|---|---|---|---|---|---|---|---|---|\n",
       "| 1            | 163          | 374          | 537          | 0.459154930  | 0.68123862   | -0.3945249   | 0.0876175539 | \n",
       "| 2            |  89          |  72          | 161          | 0.250704225  | 0.13114754   |  0.6479509   | 0.0774668616 | \n",
       "| 3            |  59          |  43          | 102          | 0.166197183  | 0.07832423   |  0.7523180   | 0.0661084057 | \n",
       "| 4            |  21          |   8          |  29          | 0.059154930  | 0.01457195   |  1.4010615   | 0.0624634998 | \n",
       "| 5            |   3          |  12          |  15          | 0.008450704  | 0.02185792   | -0.9503137   | 0.0127410643 | \n",
       "| 6            |   3          |  19          |  22          | 0.008450704  | 0.03460838   | -1.4098460   | 0.0368782940 | \n",
       "| 7            |   4          |   8          |  12          | 0.011267606  | 0.01457195   | -0.2571665   | 0.0008497665 | \n",
       "| 8            |   6          |   6          |   6          | 0.016901408  | 0.01092896   |  0.4359807   | 0.0026038712 | \n",
       "| 11           |   7          |   7          |   7          | 0.019718310  | 0.01275046   |  0.4359807   | 0.0030378497 | \n",
       "\n",
       "\n"
      ],
      "text/plain": [
       "  CAT GOODS BADS TOTAL PCT_G       PCT_B      WOE        IV          \n",
       "1 1   163   374  537   0.459154930 0.68123862 -0.3945249 0.0876175539\n",
       "2 2    89    72  161   0.250704225 0.13114754  0.6479509 0.0774668616\n",
       "3 3    59    43  102   0.166197183 0.07832423  0.7523180 0.0661084057\n",
       "4 4    21     8   29   0.059154930 0.01457195  1.4010615 0.0624634998\n",
       "5 5     3    12   15   0.008450704 0.02185792 -0.9503137 0.0127410643\n",
       "6 6     3    19   22   0.008450704 0.03460838 -1.4098460 0.0368782940\n",
       "7 7     4     8   12   0.011267606 0.01457195 -0.2571665 0.0008497665\n",
       "8 8     6     6    6   0.016901408 0.01092896  0.4359807 0.0026038712\n",
       "9 11    7     7    7   0.019718310 0.01275046  0.4359807 0.0030378497"
      ]
     },
     "metadata": {},
     "output_type": "display_data"
    }
   ],
   "source": [
    "WOETable(X=as.factor(data$FamilySize[1:nrow(train)]), Y=data$Survived[1:nrow(train)])"
   ]
  },
  {
   "cell_type": "code",
   "execution_count": 25,
   "metadata": {
    "collapsed": false
   },
   "outputs": [
    {
     "data": {
      "text/html": [
       "0.349767166713569"
      ],
      "text/latex": [
       "0.349767166713569"
      ],
      "text/markdown": [
       "0.349767166713569"
      ],
      "text/plain": [
       "[1] 0.3497672\n",
       "attr(,\"howgood\")\n",
       "[1] \"Highly Predictive\""
      ]
     },
     "metadata": {},
     "output_type": "display_data"
    }
   ],
   "source": [
    "IV(X=as.factor(data$FamilySize[1:nrow(train)]), Y=data$Survived[1:nrow(train)])"
   ]
  },
  {
   "cell_type": "markdown",
   "metadata": {},
   "source": [
    "# ** For Ticket, find relationship between survived and ticket number **"
   ]
  },
  {
   "cell_type": "code",
   "execution_count": 26,
   "metadata": {
    "collapsed": true
   },
   "outputs": [],
   "source": [
    "ticket.count <- aggregate(data$Ticket, by = list(data$Ticket), function(x) sum(!is.na(x)))"
   ]
  },
  {
   "cell_type": "markdown",
   "metadata": {},
   "source": [
    "** It's hard to use ticket id find a relationship, suppose same id people is family, they could survived or died togather.**"
   ]
  },
  {
   "cell_type": "code",
   "execution_count": 27,
   "metadata": {
    "collapsed": false
   },
   "outputs": [
    {
     "data": {},
     "metadata": {},
     "output_type": "display_data"
    },
    {
     "data": {
      "image/png": "[encoded data removed]",
      "text/plain": [
       "plot without title"
      ]
     },
     "metadata": {},
     "output_type": "display_data"
    }
   ],
   "source": [
    "data$TicketCount <- apply(data, 1, function(x) ticket.count[which(ticket.count[, 1] == x['Ticket']), 2])\n",
    "data$TicketCount <- factor(sapply(data$TicketCount, function(x) ifelse(x > 1, 'Share', 'Unique')))\n",
    "ggplot(data = data[1:nrow(train),], mapping = aes(x = TicketCount, y = ..count.., fill=Survived)) + \n",
    "  geom_bar(stat = 'count', position='dodge') + \n",
    "  xlab('TicketCount') + \n",
    "  ylab('Count') + \n",
    "  ggtitle('How TicketCount impact survivor') + \n",
    "  geom_text(stat = \"count\", aes(label = ..count..), position=position_dodge(width=1), , vjust=-0.5) + \n",
    "  theme(plot.title = element_text(hjust = 0.5), legend.position=\"bottom\")"
   ]
  },
  {
   "cell_type": "markdown",
   "metadata": {},
   "source": [
    "**According to WOE AND IV, it could find IV of Pclass IS 0.2751 AND \"Highly Predictive\".**"
   ]
  },
  {
   "cell_type": "code",
   "execution_count": 28,
   "metadata": {
    "collapsed": false
   },
   "outputs": [
    {
     "data": {
      "text/html": [
       "<table>\n",
       "<thead><tr><th scope=col>CAT</th><th scope=col>GOODS</th><th scope=col>BADS</th><th scope=col>TOTAL</th><th scope=col>PCT_G</th><th scope=col>PCT_B</th><th scope=col>WOE</th><th scope=col>IV</th></tr></thead>\n",
       "<tbody>\n",
       "\t<tr><td>Share     </td><td>212       </td><td>198       </td><td>410       </td><td>0.619883  </td><td>0.3606557 </td><td> 0.5416069</td><td>0.1403993 </td></tr>\n",
       "\t<tr><td>Unique    </td><td>130       </td><td>351       </td><td>481       </td><td>0.380117  </td><td>0.6393443 </td><td>-0.5199641</td><td>0.1347889 </td></tr>\n",
       "</tbody>\n",
       "</table>\n"
      ],
      "text/latex": [
       "\\begin{tabular}{r|llllllll}\n",
       " CAT & GOODS & BADS & TOTAL & PCT\\_G & PCT\\_B & WOE & IV\\\\\n",
       "\\hline\n",
       "\t Share      & 212        & 198        & 410        & 0.619883   & 0.3606557  &  0.5416069 & 0.1403993 \\\\\n",
       "\t Unique     & 130        & 351        & 481        & 0.380117   & 0.6393443  & -0.5199641 & 0.1347889 \\\\\n",
       "\\end{tabular}\n"
      ],
      "text/markdown": [
       "\n",
       "CAT | GOODS | BADS | TOTAL | PCT_G | PCT_B | WOE | IV | \n",
       "|---|---|\n",
       "| Share      | 212        | 198        | 410        | 0.619883   | 0.3606557  |  0.5416069 | 0.1403993  | \n",
       "| Unique     | 130        | 351        | 481        | 0.380117   | 0.6393443  | -0.5199641 | 0.1347889  | \n",
       "\n",
       "\n"
      ],
      "text/plain": [
       "  CAT    GOODS BADS TOTAL PCT_G    PCT_B     WOE        IV       \n",
       "1 Share  212   198  410   0.619883 0.3606557  0.5416069 0.1403993\n",
       "2 Unique 130   351  481   0.380117 0.6393443 -0.5199641 0.1347889"
      ]
     },
     "metadata": {},
     "output_type": "display_data"
    }
   ],
   "source": [
    "WOETable(X=data$TicketCount[1:nrow(train)], Y=data$Survived[1:nrow(train)])"
   ]
  },
  {
   "cell_type": "code",
   "execution_count": 29,
   "metadata": {
    "collapsed": false
   },
   "outputs": [
    {
     "data": {
      "text/html": [
       "0.275188191921667"
      ],
      "text/latex": [
       "0.275188191921667"
      ],
      "text/markdown": [
       "0.275188191921667"
      ],
      "text/plain": [
       "[1] 0.2751882\n",
       "attr(,\"howgood\")\n",
       "[1] \"Highly Predictive\""
      ]
     },
     "metadata": {},
     "output_type": "display_data"
    }
   ],
   "source": [
    "IV(X=data$TicketCount[1:nrow(train)], Y=data$Survived[1:nrow(train)])"
   ]
  },
  {
   "cell_type": "markdown",
   "metadata": {},
   "source": [
    "# ** For Fare, find relationship between survived and ticket fee **"
   ]
  },
  {
   "cell_type": "code",
   "execution_count": 30,
   "metadata": {
    "collapsed": false
   },
   "outputs": [
    {
     "name": "stderr",
     "output_type": "stream",
     "text": [
      "Warning message:\n",
      "\"Ignoring unknown aesthetics: label\""
     ]
    },
    {
     "data": {},
     "metadata": {},
     "output_type": "display_data"
    },
    {
     "data": {
      "image/png": "[encoded data removed]",
      "text/plain": [
       "plot without title"
      ]
     },
     "metadata": {},
     "output_type": "display_data"
    }
   ],
   "source": [
    "ggplot(data = data[(!is.na(data$Fare)) & row(data[, 'Fare']) <= 891, ], aes(x = Fare, color=Survived)) + \n",
    "  geom_line(aes(label=..count..), stat = 'bin', binwidth=10)  + \n",
    "  labs(title = \"How Fare impact survivor\", x = \"Fare\", y = \"Count\", fill = \"Survived\")"
   ]
  },
  {
   "cell_type": "markdown",
   "metadata": {},
   "source": [
    "# ** For Cabin, find relationship between survived and Cabins **"
   ]
  },
  {
   "cell_type": "markdown",
   "metadata": {},
   "source": [
    "** supoose the capital number of Cabins is the room id **"
   ]
  },
  {
   "cell_type": "code",
   "execution_count": 31,
   "metadata": {
    "collapsed": false
   },
   "outputs": [
    {
     "data": {},
     "metadata": {},
     "output_type": "display_data"
    },
    {
     "data": {
      "image/png": "[encoded data removed]",
      "text/plain": [
       "plot without title"
      ]
     },
     "metadata": {},
     "output_type": "display_data"
    }
   ],
   "source": [
    "ggplot(data[1:nrow(train), ], mapping = aes(x = as.factor(sapply(data$Cabin[1:nrow(train)], function(x) str_sub(x, start = 1, end = 1))), y = ..count.., fill = Survived)) +\n",
    "  geom_bar(stat = 'count', position='dodge') + \n",
    "  xlab('Cabin') +\n",
    "  ylab('Count') +\n",
    "  ggtitle('How Cabin impact survivor') +\n",
    "  geom_text(stat = \"count\", aes(label = ..count..), position=position_dodge(width=1), , vjust=-0.5) + \n",
    "  theme(plot.title = element_text(hjust = 0.5), legend.position=\"bottom\")"
   ]
  },
  {
   "cell_type": "markdown",
   "metadata": {},
   "source": [
    "**According to WOE AND IV, it could find IV of Pclass IS 0.18665 AND \"Highly Predictive\".**"
   ]
  },
  {
   "cell_type": "code",
   "execution_count": 32,
   "metadata": {
    "collapsed": false
   },
   "outputs": [
    {
     "data": {
      "text/html": [
       "<table>\n",
       "<thead><tr><th scope=col>CAT</th><th scope=col>GOODS</th><th scope=col>BADS</th><th scope=col>TOTAL</th><th scope=col>PCT_G</th><th scope=col>PCT_B</th><th scope=col>WOE</th><th scope=col>IV</th></tr></thead>\n",
       "<tbody>\n",
       "\t<tr><td>A          </td><td> 7         </td><td> 8         </td><td>15         </td><td>0.05109489 </td><td>0.11764706 </td><td>-0.8340046 </td><td>0.055504815</td></tr>\n",
       "\t<tr><td>B          </td><td>35         </td><td>12         </td><td>47         </td><td>0.25547445 </td><td>0.17647059 </td><td> 0.3699682 </td><td>0.029228917</td></tr>\n",
       "\t<tr><td>C          </td><td>35         </td><td>24         </td><td>59         </td><td>0.25547445 </td><td>0.35294118 </td><td>-0.3231790 </td><td>0.031499197</td></tr>\n",
       "\t<tr><td>D          </td><td>25         </td><td> 8         </td><td>33         </td><td>0.18248175 </td><td>0.11764706 </td><td> 0.4389611 </td><td>0.028459906</td></tr>\n",
       "\t<tr><td>E          </td><td>24         </td><td> 8         </td><td>32         </td><td>0.17518248 </td><td>0.11764706 </td><td> 0.3981391 </td><td>0.022907100</td></tr>\n",
       "\t<tr><td>F          </td><td> 8         </td><td> 5         </td><td>13         </td><td>0.05839416 </td><td>0.07352941 </td><td>-0.2304696 </td><td>0.003488215</td></tr>\n",
       "\t<tr><td>G          </td><td> 2         </td><td> 2         </td><td> 4         </td><td>0.01459854 </td><td>0.02941176 </td><td>-0.7004732 </td><td>0.010376267</td></tr>\n",
       "\t<tr><td>T          </td><td> 1         </td><td> 1         </td><td> 1         </td><td>0.00729927 </td><td>0.01470588 </td><td>-0.7004732 </td><td>0.005188134</td></tr>\n",
       "</tbody>\n",
       "</table>\n"
      ],
      "text/latex": [
       "\\begin{tabular}{r|llllllll}\n",
       " CAT & GOODS & BADS & TOTAL & PCT\\_G & PCT\\_B & WOE & IV\\\\\n",
       "\\hline\n",
       "\t A           &  7          &  8          & 15          & 0.05109489  & 0.11764706  & -0.8340046  & 0.055504815\\\\\n",
       "\t B           & 35          & 12          & 47          & 0.25547445  & 0.17647059  &  0.3699682  & 0.029228917\\\\\n",
       "\t C           & 35          & 24          & 59          & 0.25547445  & 0.35294118  & -0.3231790  & 0.031499197\\\\\n",
       "\t D           & 25          &  8          & 33          & 0.18248175  & 0.11764706  &  0.4389611  & 0.028459906\\\\\n",
       "\t E           & 24          &  8          & 32          & 0.17518248  & 0.11764706  &  0.3981391  & 0.022907100\\\\\n",
       "\t F           &  8          &  5          & 13          & 0.05839416  & 0.07352941  & -0.2304696  & 0.003488215\\\\\n",
       "\t G           &  2          &  2          &  4          & 0.01459854  & 0.02941176  & -0.7004732  & 0.010376267\\\\\n",
       "\t T           &  1          &  1          &  1          & 0.00729927  & 0.01470588  & -0.7004732  & 0.005188134\\\\\n",
       "\\end{tabular}\n"
      ],
      "text/markdown": [
       "\n",
       "CAT | GOODS | BADS | TOTAL | PCT_G | PCT_B | WOE | IV | \n",
       "|---|---|---|---|---|---|---|---|\n",
       "| A           |  7          |  8          | 15          | 0.05109489  | 0.11764706  | -0.8340046  | 0.055504815 | \n",
       "| B           | 35          | 12          | 47          | 0.25547445  | 0.17647059  |  0.3699682  | 0.029228917 | \n",
       "| C           | 35          | 24          | 59          | 0.25547445  | 0.35294118  | -0.3231790  | 0.031499197 | \n",
       "| D           | 25          |  8          | 33          | 0.18248175  | 0.11764706  |  0.4389611  | 0.028459906 | \n",
       "| E           | 24          |  8          | 32          | 0.17518248  | 0.11764706  |  0.3981391  | 0.022907100 | \n",
       "| F           |  8          |  5          | 13          | 0.05839416  | 0.07352941  | -0.2304696  | 0.003488215 | \n",
       "| G           |  2          |  2          |  4          | 0.01459854  | 0.02941176  | -0.7004732  | 0.010376267 | \n",
       "| T           |  1          |  1          |  1          | 0.00729927  | 0.01470588  | -0.7004732  | 0.005188134 | \n",
       "\n",
       "\n"
      ],
      "text/plain": [
       "  CAT GOODS BADS TOTAL PCT_G      PCT_B      WOE        IV         \n",
       "1 A    7     8   15    0.05109489 0.11764706 -0.8340046 0.055504815\n",
       "2 B   35    12   47    0.25547445 0.17647059  0.3699682 0.029228917\n",
       "3 C   35    24   59    0.25547445 0.35294118 -0.3231790 0.031499197\n",
       "4 D   25     8   33    0.18248175 0.11764706  0.4389611 0.028459906\n",
       "5 E   24     8   32    0.17518248 0.11764706  0.3981391 0.022907100\n",
       "6 F    8     5   13    0.05839416 0.07352941 -0.2304696 0.003488215\n",
       "7 G    2     2    4    0.01459854 0.02941176 -0.7004732 0.010376267\n",
       "8 T    1     1    1    0.00729927 0.01470588 -0.7004732 0.005188134"
      ]
     },
     "metadata": {},
     "output_type": "display_data"
    }
   ],
   "source": [
    "data$Cabin <- sapply(data$Cabin, function(x) str_sub(x, start = 1, end = 1))\n",
    "WOETable(X=as.factor(data$Cabin[1:nrow(train)]), Y=data$Survived[1:nrow(train)])"
   ]
  },
  {
   "cell_type": "code",
   "execution_count": 33,
   "metadata": {
    "collapsed": false
   },
   "outputs": [
    {
     "data": {
      "text/html": [
       "0.186652550731132"
      ],
      "text/latex": [
       "0.186652550731132"
      ],
      "text/markdown": [
       "0.186652550731132"
      ],
      "text/plain": [
       "[1] 0.1866526\n",
       "attr(,\"howgood\")\n",
       "[1] \"Highly Predictive\""
      ]
     },
     "metadata": {},
     "output_type": "display_data"
    }
   ],
   "source": [
    "IV(X=as.factor(data$Cabin[1:nrow(train)]), Y=data$Survived[1:nrow(train)])"
   ]
  },
  {
   "cell_type": "markdown",
   "metadata": {},
   "source": [
    "# ** For Embarked, find relationship between survived and ports **"
   ]
  },
  {
   "cell_type": "code",
   "execution_count": 34,
   "metadata": {
    "collapsed": false
   },
   "outputs": [
    {
     "data": {},
     "metadata": {},
     "output_type": "display_data"
    },
    {
     "data": {
      "image/png": "[encoded data removed]",
      "text/plain": [
       "plot without title"
      ]
     },
     "metadata": {},
     "output_type": "display_data"
    }
   ],
   "source": [
    "ggplot(data[1:nrow(train), ], mapping = aes(x = Embarked, y = ..count.., fill = Survived)) +\n",
    "  geom_bar(stat = 'count', position='dodge') + \n",
    "  xlab('Embarked') +\n",
    "  ylab('Count') +\n",
    "  ggtitle('How Embarked impact survivor') +\n",
    "  geom_text(stat = \"count\", aes(label = ..count..), position=position_dodge(width=1), , vjust=-0.5) + \n",
    "  theme(plot.title = element_text(hjust = 0.5), legend.position=\"bottom\")"
   ]
  },
  {
   "cell_type": "markdown",
   "metadata": {},
   "source": [
    "**According to WOE AND IV, it could find IV of Pclass IS 0.1227 AND \"Highly Predictive\".**"
   ]
  },
  {
   "cell_type": "code",
   "execution_count": 35,
   "metadata": {
    "collapsed": false
   },
   "outputs": [
    {
     "data": {
      "text/html": [
       "<table>\n",
       "<thead><tr><th scope=col>CAT</th><th scope=col>GOODS</th><th scope=col>BADS</th><th scope=col>TOTAL</th><th scope=col>PCT_G</th><th scope=col>PCT_B</th><th scope=col>WOE</th><th scope=col>IV</th></tr></thead>\n",
       "<tbody>\n",
       "\t<tr><td>C           </td><td> 93         </td><td> 75         </td><td>168         </td><td>0.27352941  </td><td>0.1366120   </td><td> 0.6942642  </td><td>9.505684e-02</td></tr>\n",
       "\t<tr><td>Q           </td><td> 30         </td><td> 47         </td><td> 77         </td><td>0.08823529  </td><td>0.0856102   </td><td> 0.0302026  </td><td>7.928467e-05</td></tr>\n",
       "\t<tr><td>S           </td><td>217         </td><td>427         </td><td>644         </td><td>0.63823529  </td><td>0.7777778   </td><td>-0.1977338  </td><td>2.759227e-02</td></tr>\n",
       "</tbody>\n",
       "</table>\n"
      ],
      "text/latex": [
       "\\begin{tabular}{r|llllllll}\n",
       " CAT & GOODS & BADS & TOTAL & PCT\\_G & PCT\\_B & WOE & IV\\\\\n",
       "\\hline\n",
       "\t C            &  93          &  75          & 168          & 0.27352941   & 0.1366120    &  0.6942642   & 9.505684e-02\\\\\n",
       "\t Q            &  30          &  47          &  77          & 0.08823529   & 0.0856102    &  0.0302026   & 7.928467e-05\\\\\n",
       "\t S            & 217          & 427          & 644          & 0.63823529   & 0.7777778    & -0.1977338   & 2.759227e-02\\\\\n",
       "\\end{tabular}\n"
      ],
      "text/markdown": [
       "\n",
       "CAT | GOODS | BADS | TOTAL | PCT_G | PCT_B | WOE | IV | \n",
       "|---|---|---|\n",
       "| C            |  93          |  75          | 168          | 0.27352941   | 0.1366120    |  0.6942642   | 9.505684e-02 | \n",
       "| Q            |  30          |  47          |  77          | 0.08823529   | 0.0856102    |  0.0302026   | 7.928467e-05 | \n",
       "| S            | 217          | 427          | 644          | 0.63823529   | 0.7777778    | -0.1977338   | 2.759227e-02 | \n",
       "\n",
       "\n"
      ],
      "text/plain": [
       "  CAT GOODS BADS TOTAL PCT_G      PCT_B     WOE        IV          \n",
       "1 C    93    75  168   0.27352941 0.1366120  0.6942642 9.505684e-02\n",
       "2 Q    30    47   77   0.08823529 0.0856102  0.0302026 7.928467e-05\n",
       "3 S   217   427  644   0.63823529 0.7777778 -0.1977338 2.759227e-02"
      ]
     },
     "metadata": {},
     "output_type": "display_data"
    }
   ],
   "source": [
    "WOETable(X=as.factor(data$Embarked[1:nrow(train)]), Y=data$Survived[1:nrow(train)])"
   ]
  },
  {
   "cell_type": "code",
   "execution_count": 36,
   "metadata": {
    "collapsed": false
   },
   "outputs": [
    {
     "data": {
      "text/html": [
       "0.122728397867483"
      ],
      "text/latex": [
       "0.122728397867483"
      ],
      "text/markdown": [
       "0.122728397867483"
      ],
      "text/plain": [
       "[1] 0.1227284\n",
       "attr(,\"howgood\")\n",
       "[1] \"Highly Predictive\""
      ]
     },
     "metadata": {},
     "output_type": "display_data"
    }
   ],
   "source": [
    "IV(X=as.factor(data$Embarked[1:nrow(train)]), Y=data$Survived[1:nrow(train)])"
   ]
  },
  {
   "cell_type": "markdown",
   "metadata": {},
   "source": [
    "# stpe 3: Fill the missing value"
   ]
  },
  {
   "cell_type": "markdown",
   "metadata": {},
   "source": [
    "** list all missing value **"
   ]
  },
  {
   "cell_type": "code",
   "execution_count": 37,
   "metadata": {
    "collapsed": false
   },
   "outputs": [
    {
     "name": "stdout",
     "output_type": "stream",
     "text": [
      "[1] \"Age miss 263 values\"\n",
      "[1] \"Fare miss 1 values\"\n",
      "[1] \"Cabin miss 1014 values\"\n",
      "[1] \"Embarked miss 2 values\"\n"
     ]
    }
   ],
   "source": [
    "attach(data)\n",
    "  missing <- list(Pclass=nrow(data[is.na(Pclass), ]))\n",
    "  missing$Name <- nrow(data[is.na(Name), ])\n",
    "  missing$Sex <- nrow(data[is.na(Sex), ])\n",
    "  missing$Age <- nrow(data[is.na(Age), ])\n",
    "  missing$SibSp <- nrow(data[is.na(SibSp), ])\n",
    "  missing$Parch <- nrow(data[is.na(Parch), ])\n",
    "  missing$Ticket <- nrow(data[is.na(Ticket), ])\n",
    "  missing$Fare <- nrow(data[is.na(Fare), ])\n",
    "  missing$Cabin <- nrow(data[is.na(Cabin), ])\n",
    "  missing$Embarked <- nrow(data[is.na(Embarked), ])\n",
    "  for (name in names(missing)) {\n",
    "    if (missing[[name]][1] > 0) {\n",
    "      print(paste('', name, ' miss ', missing[[name]][1], ' values', sep = ''))\n",
    "    }\n",
    "  }\n",
    "detach(data)"
   ]
  },
  {
   "cell_type": "markdown",
   "metadata": {},
   "source": [
    "# For age, predict the age for missing value bacause the missing value is too much"
   ]
  },
  {
   "cell_type": "code",
   "execution_count": 38,
   "metadata": {
    "collapsed": true
   },
   "outputs": [],
   "source": [
    "# generate model by other features\n",
    "age.model <- rpart(Age ~ Pclass + Sex + SibSp + Parch + Fare + Embarked + Title + FamilySize, data=data[!is.na(data$Age), ], method='anova')\n",
    "# predict the missing value of age\n",
    "data$Age[is.na(data$Age)] <- predict(age.model, data[is.na(data$Age), ])"
   ]
  },
  {
   "cell_type": "markdown",
   "metadata": {},
   "source": [
    "# For Embarked, using median value to fill because only 2 missing value"
   ]
  },
  {
   "cell_type": "code",
   "execution_count": 39,
   "metadata": {
    "collapsed": false
   },
   "outputs": [
    {
     "data": {
      "text/html": [
       "<table>\n",
       "<thead><tr><th scope=col>PassengerId</th><th scope=col>Pclass</th><th scope=col>Fare</th><th scope=col>Embarked</th></tr></thead>\n",
       "<tbody>\n",
       "\t<tr><td> 62</td><td>1  </td><td>80 </td><td>NA </td></tr>\n",
       "\t<tr><td>830</td><td>1  </td><td>80 </td><td>NA </td></tr>\n",
       "</tbody>\n",
       "</table>\n"
      ],
      "text/latex": [
       "\\begin{tabular}{r|llll}\n",
       " PassengerId & Pclass & Fare & Embarked\\\\\n",
       "\\hline\n",
       "\t  62 & 1   & 80  & NA \\\\\n",
       "\t 830 & 1   & 80  & NA \\\\\n",
       "\\end{tabular}\n"
      ],
      "text/markdown": [
       "\n",
       "PassengerId | Pclass | Fare | Embarked | \n",
       "|---|---|\n",
       "|  62 | 1   | 80  | NA  | \n",
       "| 830 | 1   | 80  | NA  | \n",
       "\n",
       "\n"
      ],
      "text/plain": [
       "  PassengerId Pclass Fare Embarked\n",
       "1  62         1      80   NA      \n",
       "2 830         1      80   NA      "
      ]
     },
     "metadata": {},
     "output_type": "display_data"
    }
   ],
   "source": [
    "data[is.na(data$Embarked), c('PassengerId', 'Pclass', 'Fare', 'Embarked')]"
   ]
  },
  {
   "cell_type": "markdown",
   "metadata": {},
   "source": [
    "** 2 missing value is class 1 and Fare 80**"
   ]
  },
  {
   "cell_type": "code",
   "execution_count": 40,
   "metadata": {
    "collapsed": false
   },
   "outputs": [
    {
     "name": "stderr",
     "output_type": "stream",
     "text": [
      "Warning message:\n",
      "\"Removed 1 rows containing non-finite values (stat_boxplot).\""
     ]
    },
    {
     "data": {},
     "metadata": {},
     "output_type": "display_data"
    },
    {
     "data": {
      "image/png": "[encoded data removed]",
      "text/plain": [
       "plot without title"
      ]
     },
     "metadata": {},
     "output_type": "display_data"
    }
   ],
   "source": [
    "ggplot(data[!is.na(data$Embarked),], aes(x=Embarked, y=Fare, fill=factor(Pclass))) +\n",
    "  geom_boxplot() +\n",
    "  geom_hline(aes(yintercept=80), color='red', linetype='dashed', lwd=2) +\n",
    "  scale_y_continuous(labels=dollar_format()) + theme_few()"
   ]
  },
  {
   "cell_type": "markdown",
   "metadata": {},
   "source": [
    "** It could find Embarked-C has midian value of class 1 and Fare 80, therefore fill missing value by C**"
   ]
  },
  {
   "cell_type": "code",
   "execution_count": 41,
   "metadata": {
    "collapsed": true
   },
   "outputs": [],
   "source": [
    "data$Embarked[is.na(data$Embarked)] <- 'C'\n",
    "data$Embarked <- as.factor(data$Embarked)"
   ]
  },
  {
   "cell_type": "markdown",
   "metadata": {},
   "source": [
    "# For Fare, using median value to fill because only 1 missing value"
   ]
  },
  {
   "cell_type": "code",
   "execution_count": 42,
   "metadata": {
    "collapsed": true
   },
   "outputs": [],
   "source": [
    "data$Fare[is.na(data$Fare)] <- median(data$Fare, na.rm=TRUE)"
   ]
  },
  {
   "cell_type": "markdown",
   "metadata": {},
   "source": [
    "# For Cabin, too much missing value and it's hard to predict it by other features and the iv of NA is high, therefore set all missing cabin with a charater X. "
   ]
  },
  {
   "cell_type": "code",
   "execution_count": 43,
   "metadata": {
    "collapsed": true
   },
   "outputs": [],
   "source": [
    "data$Cabin <- as.factor(sapply(data$Cabin, function(x) ifelse(is.na(x), 'X', str_sub(x, start = 1, end = 1))))"
   ]
  },
  {
   "cell_type": "markdown",
   "metadata": {},
   "source": [
    "# step 4: Train the model"
   ]
  },
  {
   "cell_type": "code",
   "execution_count": 44,
   "metadata": {
    "collapsed": true
   },
   "outputs": [],
   "source": [
    "set.seed(415)\n",
    "model <- cforest(Survived ~ Pclass + Title + Sex + Age + SibSp + Parch + FamilySize + TicketCount + Fare + Cabin + Embarked, data = data[train.row, ], controls=cforest_unbiased(ntree=2000, mtry=3))"
   ]
  },
  {
   "cell_type": "markdown",
   "metadata": {},
   "source": [
    "# step 5: cross validation"
   ]
  },
  {
   "cell_type": "markdown",
   "metadata": {},
   "source": [
    "** In this project, using all data for traning and pick 30% random data for testing**"
   ]
  },
  {
   "cell_type": "code",
   "execution_count": 45,
   "metadata": {
    "collapsed": false
   },
   "outputs": [
    {
     "name": "stdout",
     "output_type": "stream",
     "text": [
      "[1] \"Recall: 0.947976878612717\"\n",
      "[1] \"Precision: 0.841025641025641\"\n",
      "[1] \"Accuracy: 0.850187265917603\"\n",
      "[1] \"AUC: 0.809094822285082\"\n"
     ]
    }
   ],
   "source": [
    "cv.summarize <- function(data.true, data.predict) {\n",
    "  print(paste('Recall:', Recall(data.true, data.predict)))\n",
    "  print(paste('Precision:', Precision(data.true, data.predict)))\n",
    "  print(paste('Accuracy:', Accuracy(data.predict, data.true)))\n",
    "  print(paste('AUC:', AUC(data.predict, data.true)))\n",
    "}\n",
    "set.seed(415)\n",
    "cv.test.sample <- sample(1:nrow(train), as.integer(0.3 * nrow(train)), replace = TRUE)\n",
    "cv.test <- data[cv.test.sample,]\n",
    "cv.prediction <- predict(model, cv.test, OOB=TRUE, type = \"response\")\n",
    "cv.summarize(cv.test$Survived, cv.prediction)"
   ]
  },
  {
   "cell_type": "code",
   "execution_count": 46,
   "metadata": {
    "collapsed": true
   },
   "outputs": [],
   "source": [
    "predict.result <- predict(model, data[(1+nrow(train)):(nrow(data)), ], OOB=TRUE, type = \"response\")\n",
    "output <- data.frame(PassengerId = test$PassengerId, Survived = predict.result)\n",
    "#write.csv(output, file = \"jz1g17_Titanic_submission_R_1.csv\", row.names = FALSE)"
   ]
  },
  {
   "cell_type": "markdown",
   "metadata": {},
   "source": [
    "** Score in Kaggle: 0.80382**"
   ]
  },
  {
   "cell_type": "markdown",
   "metadata": {},
   "source": [
    "# step 6: optimize"
   ]
  },
  {
   "cell_type": "markdown",
   "metadata": {},
   "source": [
    "# ** remove the associated features SibSp and Parch because new feature FamilySize has higher IV **"
   ]
  },
  {
   "cell_type": "code",
   "execution_count": 47,
   "metadata": {
    "collapsed": true
   },
   "outputs": [],
   "source": [
    "set.seed(415)\n",
    "model <- cforest(Survived ~ Pclass + Title + Sex + Age + FamilySize + TicketCount + Fare + Cabin + Embarked, data = data[train.row, ], controls=cforest_unbiased(ntree=2000, mtry=3))\n",
    "predict.result <- predict(model, data[test.row, ], OOB=TRUE, type = \"response\")\n",
    "submit <- data.frame(PassengerId = test$PassengerId, Survived = predict.result)\n",
    "#write.csv(submit, file = \"jz1g17_Titanic_submission_R_2.csv\", row.names = FALSE)"
   ]
  },
  {
   "cell_type": "markdown",
   "metadata": {},
   "source": [
    "** Score in Kaggle: 0.80382**"
   ]
  },
  {
   "cell_type": "markdown",
   "metadata": {},
   "source": [
    "# ** remove the low IV feature Cabin**"
   ]
  },
  {
   "cell_type": "code",
   "execution_count": 48,
   "metadata": {
    "collapsed": true
   },
   "outputs": [],
   "source": [
    "set.seed(415)\n",
    "model <- cforest(Survived ~ Pclass + Title + Sex + Age + FamilySize + TicketCount + Fare + Embarked, data = data[train.row, ], controls=cforest_unbiased(ntree=2000, mtry=3))\n",
    "predict.result <- predict(model, data[test.row, ], OOB=TRUE, type = \"response\")\n",
    "submit <- data.frame(PassengerId = test$PassengerId, Survived = predict.result)\n",
    "#write.csv(submit, file = \"jz1g17_Titanic_submission_R_3.csv\", row.names = FALSE)"
   ]
  },
  {
   "cell_type": "markdown",
   "metadata": {},
   "source": [
    "** Score in Kaggle: 0.80382**"
   ]
  },
  {
   "cell_type": "markdown",
   "metadata": {},
   "source": [
    "# ** Add derive feature**"
   ]
  },
  {
   "cell_type": "markdown",
   "metadata": {},
   "source": [
    "For name feature, title is one derive feature. "
   ]
  },
  {
   "cell_type": "markdown",
   "metadata": {},
   "source": [
    "The first name may has higher multiplicity, but the last name has lower multiplicity in west type name. Therefore the last name could be a new feature. People have the same last name could be family, they may all live or all died. In addition, for the last name only found once, they could not happen in train and test dataset at the sametime, therefore named the once last name to \"small\""
   ]
  },
  {
   "cell_type": "code",
   "execution_count": 49,
   "metadata": {
    "collapsed": true
   },
   "outputs": [],
   "source": [
    "data$Surname <- sapply(data$Name, FUN=function(x) {strsplit(x, split='[,.]')[[1]][1]})\n",
    "data$FamilyID <- paste(as.character(data$FamilySize), data$Surname, sep=\"\")\n",
    "data$FamilyID[data$FamilySize <= 2] <- 'Small'\n",
    "# Delete erroneous family IDs\n",
    "famIDs <- data.frame(table(data$FamilyID))\n",
    "famIDs <- famIDs[famIDs$Freq <= 2,]\n",
    "data$FamilyID[data$FamilyID %in% famIDs$Var1] <- 'Small'\n",
    "# Convert to a factor\n",
    "data$FamilyID <- factor(data$FamilyID)"
   ]
  },
  {
   "cell_type": "code",
   "execution_count": 50,
   "metadata": {
    "collapsed": true
   },
   "outputs": [],
   "source": [
    "set.seed(415)\n",
    "model <- cforest(as.factor(Survived) ~ Pclass + Sex + Age + Fare + Embarked + Title + FamilySize + FamilyID + TicketCount, data = data[train.row, ], controls=cforest_unbiased(ntree=2000, mtry=3))\n",
    "predict.result <- predict(model, data[test.row, ], OOB=TRUE, type = \"response\")\n",
    "submit <- data.frame(PassengerId = test$PassengerId, Survived = predict.result)\n",
    "#write.csv(submit, file = \"jz1g17_Titanic_submission_R_4.csv\", row.names = FALSE)"
   ]
  },
  {
   "cell_type": "markdown",
   "metadata": {},
   "source": [
    "**Score in Kaggle: 0.82296**"
   ]
  },
  {
   "cell_type": "markdown",
   "metadata": {},
   "source": [
    "# Fill embarked by most S, not C: it's just an attempt."
   ]
  },
  {
   "cell_type": "code",
   "execution_count": 51,
   "metadata": {
    "collapsed": true
   },
   "outputs": [],
   "source": [
    "data$Embarked[c(62,830)] = \"S\"\n",
    "data$Embarked <- factor(data$Embarked)"
   ]
  },
  {
   "cell_type": "code",
   "execution_count": 52,
   "metadata": {
    "collapsed": true
   },
   "outputs": [],
   "source": [
    "set.seed(415)\n",
    "model <- cforest(as.factor(Survived) ~ Pclass + Sex + Age + Fare + Embarked + Title + FamilySize + FamilyID + TicketCount, data = data[train.row, ], controls=cforest_unbiased(ntree=2000, mtry=3))\n",
    "predict.result <- predict(model, data[test.row, ], OOB=TRUE, type = \"response\")\n",
    "submit <- data.frame(PassengerId = test$PassengerId, Survived = predict.result)\n",
    "#write.csv(submit, file = \"jz1g17_Titanic_submission_R_5.csv\", row.names = FALSE)"
   ]
  },
  {
   "cell_type": "markdown",
   "metadata": {},
   "source": [
    "** Score in Kaggle: 0.82296 **"
   ]
  }
 ],
 "metadata": {
  "anaconda-cloud": {},
  "kernelspec": {
   "display_name": "R",
   "language": "R",
   "name": "ir"
  },
  "language_info": {
   "codemirror_mode": "r",
   "file_extension": ".r",
   "mimetype": "text/x-r-source",
   "name": "R",
   "pygments_lexer": "r",
   "version": "3.4.3"
  }
 },
 "nbformat": 4,
 "nbformat_minor": 1
}
